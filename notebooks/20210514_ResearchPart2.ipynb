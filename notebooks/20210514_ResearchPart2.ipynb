{
    "metadata": {
        "kernelspec": {
            "name": "SQL",
            "display_name": "SQL",
            "language": "sql"
        },
        "language_info": {
            "name": "sql",
            "version": ""
        }
    },
    "nbformat_minor": 2,
    "nbformat": 4,
    "cells": [
        {
            "cell_type": "code",
            "source": "select top 10 * from cleandata.sicop_provider where [Nombre del Proveedor] like '%grupo nacion %'",
            "metadata": {
                "azdata_cell_guid": "2a981bba-415f-4647-a73f-50ee2a5c8636"
            },
            "outputs": [
                {
                    "output_type": "display_data",
                    "data": {
                        "text/html": "(1 row affected)"
                    },
                    "metadata": {}
                },
                {
                    "output_type": "display_data",
                    "data": {
                        "text/html": "Total execution time: 00:00:00.201"
                    },
                    "metadata": {}
                },
                {
                    "output_type": "execute_result",
                    "metadata": {},
                    "execution_count": 4,
                    "data": {
                        "application/vnd.dataresource+json": {
                            "schema": {
                                "fields": [
                                    {
                                        "name": "Cedula"
                                    },
                                    {
                                        "name": "Nacionalidad"
                                    },
                                    {
                                        "name": "Nombre del Proveedor"
                                    },
                                    {
                                        "name": "Tipo"
                                    },
                                    {
                                        "name": "Direccion"
                                    },
                                    {
                                        "name": "CodigoPostalCanton_InferidoDeDireccion"
                                    },
                                    {
                                        "name": "Provincia_InferidoDeDireccion"
                                    },
                                    {
                                        "name": "Direccion2_InferidoDeDireccion"
                                    },
                                    {
                                        "name": "Canton_InferidoDeDireccion"
                                    },
                                    {
                                        "name": "Direccion3_InferidoDeDireccion"
                                    },
                                    {
                                        "name": "Distrito_InferidoDeDireccion"
                                    },
                                    {
                                        "name": "Direccion4_InferidoDeDireccion"
                                    },
                                    {
                                        "name": "FileName_Ingestion"
                                    },
                                    {
                                        "name": "CodigoPostalDistrito_InferidoDeDireccion"
                                    },
                                    {
                                        "name": "DistritoNombreAlterno_InferidoDeDireccion"
                                    }
                                ]
                            },
                            "data": [
                                {
                                    "0": "3101102844",
                                    "1": "CRC",
                                    "2": "GRUPO NACION G N SOCIEDAD ANONIMA",
                                    "3": "Grande",
                                    "4": "del cruce de Llorente 300mts Oeste. Anselmo Llorente, Tibas, San Jose",
                                    "5": "113",
                                    "6": "San Jose",
                                    "7": "del cruce de Llorente 300mts Oeste. Anselmo Llorente, Tibas",
                                    "8": "Tibas",
                                    "9": "del cruce de Llorente 300mts Oeste. Anselmo Llorente",
                                    "10": "Anselmo Llorente",
                                    "11": "NULL",
                                    "12": "1130",
                                    "13": "11303",
                                    "14": "NULL"
                                }
                            ]
                        },
                        "text/html": "<table><tr><th>Cedula</th><th>Nacionalidad</th><th>Nombre del Proveedor</th><th>Tipo</th><th>Direccion</th><th>CodigoPostalCanton_InferidoDeDireccion</th><th>Provincia_InferidoDeDireccion</th><th>Direccion2_InferidoDeDireccion</th><th>Canton_InferidoDeDireccion</th><th>Direccion3_InferidoDeDireccion</th><th>Distrito_InferidoDeDireccion</th><th>Direccion4_InferidoDeDireccion</th><th>FileName_Ingestion</th><th>CodigoPostalDistrito_InferidoDeDireccion</th><th>DistritoNombreAlterno_InferidoDeDireccion</th></tr><tr><td>3101102844</td><td>CRC</td><td>GRUPO NACION G N SOCIEDAD ANONIMA</td><td>Grande</td><td>del cruce de Llorente 300mts Oeste. Anselmo Llorente, Tibas, San Jose</td><td>113</td><td>San Jose</td><td>del cruce de Llorente 300mts Oeste. Anselmo Llorente, Tibas</td><td>Tibas</td><td>del cruce de Llorente 300mts Oeste. Anselmo Llorente</td><td>Anselmo Llorente</td><td>NULL</td><td>1130</td><td>11303</td><td>NULL</td></tr></table>"
                    }
                }
            ],
            "execution_count": 4
        },
        {
            "cell_type": "code",
            "source": "select top 10 Cedula from cleandata.sicop_provider",
            "metadata": {
                "azdata_cell_guid": "912aead8-5fbb-4184-9a62-e180fed1c461"
            },
            "outputs": [
                {
                    "output_type": "display_data",
                    "data": {
                        "text/html": "(10 rows affected)"
                    },
                    "metadata": {}
                },
                {
                    "output_type": "display_data",
                    "data": {
                        "text/html": "Total execution time: 00:00:01.217"
                    },
                    "metadata": {}
                },
                {
                    "output_type": "execute_result",
                    "metadata": {},
                    "execution_count": 3,
                    "data": {
                        "application/vnd.dataresource+json": {
                            "schema": {
                                "fields": [
                                    {
                                        "name": "Cedula"
                                    }
                                ]
                            },
                            "data": [
                                {
                                    "0": "0100730870"
                                },
                                {
                                    "0": "0101610652"
                                },
                                {
                                    "0": "0101990929"
                                },
                                {
                                    "0": "0102060082"
                                },
                                {
                                    "0": "0102110479"
                                },
                                {
                                    "0": "0102300442"
                                },
                                {
                                    "0": "0102320758"
                                },
                                {
                                    "0": "0102510445"
                                },
                                {
                                    "0": "0102510557"
                                },
                                {
                                    "0": "0102540692"
                                }
                            ]
                        },
                        "text/html": "<table><tr><th>Cedula</th></tr><tr><td>0100730870</td></tr><tr><td>0101610652</td></tr><tr><td>0101990929</td></tr><tr><td>0102060082</td></tr><tr><td>0102110479</td></tr><tr><td>0102300442</td></tr><tr><td>0102320758</td></tr><tr><td>0102510445</td></tr><tr><td>0102510557</td></tr><tr><td>0102540692</td></tr></table>"
                    }
                }
            ],
            "execution_count": 3
        },
        {
            "cell_type": "code",
            "source": "SELECT top 10 * FROM cleandata.sicop_procedure_contract\nWHERE Número_procedimiento = '2016CD-000059-0006500001'",
            "metadata": {
                "azdata_cell_guid": "025d2f53-eaa3-4284-8746-233c9328eaf5"
            },
            "outputs": [
                {
                    "output_type": "display_data",
                    "data": {
                        "text/html": "(10 rows affected)"
                    },
                    "metadata": {}
                },
                {
                    "output_type": "display_data",
                    "data": {
                        "text/html": "Total execution time: 00:00:00.341"
                    },
                    "metadata": {}
                },
                {
                    "output_type": "execute_result",
                    "execution_count": 11,
                    "data": {
                        "application/vnd.dataresource+json": {
                            "schema": {
                                "fields": [
                                    {
                                        "name": "Número_procedimiento"
                                    },
                                    {
                                        "name": "Número_contrato"
                                    },
                                    {
                                        "name": "Cédula_adjudicatario"
                                    },
                                    {
                                        "name": "Institución"
                                    },
                                    {
                                        "name": "Fecha_notificación"
                                    },
                                    {
                                        "name": "Firma_Contrato"
                                    },
                                    {
                                        "name": "Tipo_modalidad"
                                    },
                                    {
                                        "name": "Tipo_Procedimiento"
                                    },
                                    {
                                        "name": "Descripción"
                                    },
                                    {
                                        "name": "Adjudicatario"
                                    },
                                    {
                                        "name": "Moneda"
                                    },
                                    {
                                        "name": "Monto"
                                    },
                                    {
                                        "name": "Modificaciones"
                                    },
                                    {
                                        "name": "Vigencia_contrato"
                                    },
                                    {
                                        "name": "Clasificación_objeto"
                                    },
                                    {
                                        "name": "Calc_Monto_Redondeado"
                                    }
                                ]
                            },
                            "data": [
                                {
                                    "0": "2016CD-000059-0006500001",
                                    "1": "0432016100900112",
                                    "2": "3101007936",
                                    "3": "COMISION NACIONAL DE PREVENCION DE RIESGOS Y ATENCION DE EMERGENCIAS",
                                    "4": "2016-10-04 06:57:02.0000000",
                                    "5": "NULL",
                                    "6": "Servicios",
                                    "7": "CONTRATACIÓN DIRECTA",
                                    "8": "CAMPAÑA PUBLICITARIA PARA LA TEMPORADA LLUVIOSA A NIVEL NACIONAL",
                                    "9": "CADENA MUSICAL SOCIEDAD ANONIMA",
                                    "10": "CRC",
                                    "11": "2000000,00",
                                    "12": "Sí",
                                    "13": "3 Meses",
                                    "14": "SERVICIOS",
                                    "15": "2000000"
                                },
                                {
                                    "0": "2016CD-000059-0006500001",
                                    "1": "0432016100900113",
                                    "2": "3101479403",
                                    "3": "COMISION NACIONAL DE PREVENCION DE RIESGOS Y ATENCION DE EMERGENCIAS",
                                    "4": "2016-10-04 07:07:47.0000000",
                                    "5": "NULL",
                                    "6": "Servicios",
                                    "7": "CONTRATACIÓN DIRECTA",
                                    "8": "CAMPAÑA PUBLICITARIA PARA LA TEMPORADA LLUVIOSA A NIVEL NACIONAL",
                                    "9": "DIFUSORA RADIOFONICA LIMONENSE SOCIEDAD ANONIMA",
                                    "10": "CRC",
                                    "11": "400000,00",
                                    "12": "Sí",
                                    "13": "3 Meses",
                                    "14": "SERVICIOS",
                                    "15": "400000"
                                },
                                {
                                    "0": "2016CD-000059-0006500001",
                                    "1": "0432016100900114",
                                    "2": "3101347117",
                                    "3": "COMISION NACIONAL DE PREVENCION DE RIESGOS Y ATENCION DE EMERGENCIAS",
                                    "4": "2016-10-04 07:05:41.0000000",
                                    "5": "NULL",
                                    "6": "Servicios",
                                    "7": "CONTRATACIÓN DIRECTA",
                                    "8": "CAMPAÑA PUBLICITARIA PARA LA TEMPORADA LLUVIOSA A NIVEL NACIONAL",
                                    "9": "SISTEMA NACIONAL DE RADIO Y TELEVISION SOCIEDAD ANONIMA",
                                    "10": "CRC",
                                    "11": "10000000,00",
                                    "12": "Sí",
                                    "13": "3 Meses",
                                    "14": "SERVICIOS",
                                    "15": "10000000"
                                },
                                {
                                    "0": "2016CD-000059-0006500001",
                                    "1": "0432016100900115",
                                    "2": "3002045772",
                                    "3": "COMISION NACIONAL DE PREVENCION DE RIESGOS Y ATENCION DE EMERGENCIAS",
                                    "4": "2016-10-04 07:04:42.0000000",
                                    "5": "NULL",
                                    "6": "Servicios",
                                    "7": "CONTRATACIÓN DIRECTA",
                                    "8": "CAMPAÑA PUBLICITARIA PARA LA TEMPORADA LLUVIOSA A NIVEL NACIONAL",
                                    "9": "ASOCIACION INSTITUTO COSTARRICENSE DE ENSEÑANZA RADIOFONICA",
                                    "10": "CRC",
                                    "11": "3000000,00",
                                    "12": "Sí",
                                    "13": "3 Meses",
                                    "14": "SERVICIOS",
                                    "15": "3000000"
                                },
                                {
                                    "0": "2016CD-000059-0006500001",
                                    "1": "0432016100900116",
                                    "2": "3102010851",
                                    "3": "COMISION NACIONAL DE PREVENCION DE RIESGOS Y ATENCION DE EMERGENCIAS",
                                    "4": "2016-10-04 07:03:46.0000000",
                                    "5": "NULL",
                                    "6": "Servicios",
                                    "7": "CONTRATACIÓN DIRECTA",
                                    "8": "CAMPAÑA PUBLICITARIA PARA LA TEMPORADA LLUVIOSA A NIVEL NACIONAL",
                                    "9": "RADIO RUMBO LIMITADA",
                                    "10": "CRC",
                                    "11": "2000000,00",
                                    "12": "Sí",
                                    "13": "3 Meses",
                                    "14": "SERVICIOS",
                                    "15": "2000000"
                                },
                                {
                                    "0": "2016CD-000059-0006500001",
                                    "1": "0432016100900117",
                                    "2": "0105340970",
                                    "3": "COMISION NACIONAL DE PREVENCION DE RIESGOS Y ATENCION DE EMERGENCIAS",
                                    "4": "2016-10-04 07:02:51.0000000",
                                    "5": "NULL",
                                    "6": "Servicios",
                                    "7": "CONTRATACIÓN DIRECTA",
                                    "8": "CAMPAÑA PUBLICITARIA PARA LA TEMPORADA LLUVIOSA A NIVEL NACIONAL",
                                    "9": "WERNI GERARDO VASQUEZ GONZALEZ",
                                    "10": "CRC",
                                    "11": "400000,00",
                                    "12": "Sí",
                                    "13": "3 Meses",
                                    "14": "SERVICIOS",
                                    "15": "400000"
                                },
                                {
                                    "0": "2016CD-000059-0006500001",
                                    "1": "0432016100900118",
                                    "2": "3101259136",
                                    "3": "COMISION NACIONAL DE PREVENCION DE RIESGOS Y ATENCION DE EMERGENCIAS",
                                    "4": "2016-10-04 07:01:57.0000000",
                                    "5": "NULL",
                                    "6": "Servicios",
                                    "7": "CONTRATACIÓN DIRECTA",
                                    "8": "CAMPAÑA PUBLICITARIA PARA LA TEMPORADA LLUVIOSA A NIVEL NACIONAL",
                                    "9": "GRUPO RADIOFONICO OMEGA SOCIEDAD ANONIMA",
                                    "10": "CRC",
                                    "11": "2000000,00",
                                    "12": "Sí",
                                    "13": "3 Meses",
                                    "14": "SERVICIOS",
                                    "15": "2000000"
                                },
                                {
                                    "0": "2016CD-000059-0006500001",
                                    "1": "0432016100900119",
                                    "2": "0103640954",
                                    "3": "COMISION NACIONAL DE PREVENCION DE RIESGOS Y ATENCION DE EMERGENCIAS",
                                    "4": "2016-10-04 07:00:58.0000000",
                                    "5": "NULL",
                                    "6": "Servicios",
                                    "7": "CONTRATACIÓN DIRECTA",
                                    "8": "CAMPAÑA PUBLICITARIA PARA LA TEMPORADA LLUVIOSA A NIVEL NACIONAL",
                                    "9": "GILDA CHACON BRENES",
                                    "10": "CRC",
                                    "11": "1400000,00",
                                    "12": "Sí",
                                    "13": "3 Meses",
                                    "14": "SERVICIOS",
                                    "15": "1400000"
                                },
                                {
                                    "0": "2016CD-000059-0006500001",
                                    "1": "0432016100900120",
                                    "2": "0109800395",
                                    "3": "COMISION NACIONAL DE PREVENCION DE RIESGOS Y ATENCION DE EMERGENCIAS",
                                    "4": "2016-10-04 07:06:40.0000000",
                                    "5": "NULL",
                                    "6": "Servicios",
                                    "7": "CONTRATACIÓN DIRECTA",
                                    "8": "CAMPAÑA PUBLICITARIA PARA LA TEMPORADA LLUVIOSA A NIVEL NACIONAL",
                                    "9": "CARLOS EDUARDO BEJARANO CHACON",
                                    "10": "CRC",
                                    "11": "1700000,00",
                                    "12": "Sí",
                                    "13": "3 Meses",
                                    "14": "SERVICIOS",
                                    "15": "1700000"
                                },
                                {
                                    "0": "2016CD-000059-0006500001",
                                    "1": "0432016100900123",
                                    "2": "0302160265",
                                    "3": "COMISION NACIONAL DE PREVENCION DE RIESGOS Y ATENCION DE EMERGENCIAS",
                                    "4": "2016-10-04 06:55:45.0000000",
                                    "5": "NULL",
                                    "6": "Servicios",
                                    "7": "CONTRATACIÓN DIRECTA",
                                    "8": "CAMPAÑA PUBLICITARIA PARA LA TEMPORADA LLUVIOSA A NIVEL NACIONAL",
                                    "9": "DAMARIS SANABRIA GONZALEZ",
                                    "10": "CRC",
                                    "11": "4615,39",
                                    "12": "Sí",
                                    "13": "Años",
                                    "14": "SERVICIOS",
                                    "15": "4615"
                                }
                            ]
                        },
                        "text/html": "<table><tr><th>Número_procedimiento</th><th>Número_contrato</th><th>Cédula_adjudicatario</th><th>Institución</th><th>Fecha_notificación</th><th>Firma_Contrato</th><th>Tipo_modalidad</th><th>Tipo_Procedimiento</th><th>Descripción</th><th>Adjudicatario</th><th>Moneda</th><th>Monto</th><th>Modificaciones</th><th>Vigencia_contrato</th><th>Clasificación_objeto</th><th>Calc_Monto_Redondeado</th></tr><tr><td>2016CD-000059-0006500001</td><td>0432016100900112</td><td>3101007936</td><td>COMISION NACIONAL DE PREVENCION DE RIESGOS Y ATENCION DE EMERGENCIAS</td><td>2016-10-04 06:57:02.0000000</td><td>NULL</td><td>Servicios</td><td>CONTRATACIÓN DIRECTA</td><td>CAMPAÑA PUBLICITARIA PARA LA TEMPORADA LLUVIOSA A NIVEL NACIONAL</td><td>CADENA MUSICAL SOCIEDAD ANONIMA</td><td>CRC</td><td>2000000,00</td><td>Sí</td><td>3 Meses</td><td>SERVICIOS</td><td>2000000</td></tr><tr><td>2016CD-000059-0006500001</td><td>0432016100900113</td><td>3101479403</td><td>COMISION NACIONAL DE PREVENCION DE RIESGOS Y ATENCION DE EMERGENCIAS</td><td>2016-10-04 07:07:47.0000000</td><td>NULL</td><td>Servicios</td><td>CONTRATACIÓN DIRECTA</td><td>CAMPAÑA PUBLICITARIA PARA LA TEMPORADA LLUVIOSA A NIVEL NACIONAL</td><td>DIFUSORA RADIOFONICA LIMONENSE SOCIEDAD ANONIMA</td><td>CRC</td><td>400000,00</td><td>Sí</td><td>3 Meses</td><td>SERVICIOS</td><td>400000</td></tr><tr><td>2016CD-000059-0006500001</td><td>0432016100900114</td><td>3101347117</td><td>COMISION NACIONAL DE PREVENCION DE RIESGOS Y ATENCION DE EMERGENCIAS</td><td>2016-10-04 07:05:41.0000000</td><td>NULL</td><td>Servicios</td><td>CONTRATACIÓN DIRECTA</td><td>CAMPAÑA PUBLICITARIA PARA LA TEMPORADA LLUVIOSA A NIVEL NACIONAL</td><td>SISTEMA NACIONAL DE RADIO Y TELEVISION SOCIEDAD ANONIMA</td><td>CRC</td><td>10000000,00</td><td>Sí</td><td>3 Meses</td><td>SERVICIOS</td><td>10000000</td></tr><tr><td>2016CD-000059-0006500001</td><td>0432016100900115</td><td>3002045772</td><td>COMISION NACIONAL DE PREVENCION DE RIESGOS Y ATENCION DE EMERGENCIAS</td><td>2016-10-04 07:04:42.0000000</td><td>NULL</td><td>Servicios</td><td>CONTRATACIÓN DIRECTA</td><td>CAMPAÑA PUBLICITARIA PARA LA TEMPORADA LLUVIOSA A NIVEL NACIONAL</td><td>ASOCIACION INSTITUTO COSTARRICENSE DE ENSEÑANZA RADIOFONICA</td><td>CRC</td><td>3000000,00</td><td>Sí</td><td>3 Meses</td><td>SERVICIOS</td><td>3000000</td></tr><tr><td>2016CD-000059-0006500001</td><td>0432016100900116</td><td>3102010851</td><td>COMISION NACIONAL DE PREVENCION DE RIESGOS Y ATENCION DE EMERGENCIAS</td><td>2016-10-04 07:03:46.0000000</td><td>NULL</td><td>Servicios</td><td>CONTRATACIÓN DIRECTA</td><td>CAMPAÑA PUBLICITARIA PARA LA TEMPORADA LLUVIOSA A NIVEL NACIONAL</td><td>RADIO RUMBO LIMITADA</td><td>CRC</td><td>2000000,00</td><td>Sí</td><td>3 Meses</td><td>SERVICIOS</td><td>2000000</td></tr><tr><td>2016CD-000059-0006500001</td><td>0432016100900117</td><td>0105340970</td><td>COMISION NACIONAL DE PREVENCION DE RIESGOS Y ATENCION DE EMERGENCIAS</td><td>2016-10-04 07:02:51.0000000</td><td>NULL</td><td>Servicios</td><td>CONTRATACIÓN DIRECTA</td><td>CAMPAÑA PUBLICITARIA PARA LA TEMPORADA LLUVIOSA A NIVEL NACIONAL</td><td>WERNI GERARDO VASQUEZ GONZALEZ</td><td>CRC</td><td>400000,00</td><td>Sí</td><td>3 Meses</td><td>SERVICIOS</td><td>400000</td></tr><tr><td>2016CD-000059-0006500001</td><td>0432016100900118</td><td>3101259136</td><td>COMISION NACIONAL DE PREVENCION DE RIESGOS Y ATENCION DE EMERGENCIAS</td><td>2016-10-04 07:01:57.0000000</td><td>NULL</td><td>Servicios</td><td>CONTRATACIÓN DIRECTA</td><td>CAMPAÑA PUBLICITARIA PARA LA TEMPORADA LLUVIOSA A NIVEL NACIONAL</td><td>GRUPO RADIOFONICO OMEGA SOCIEDAD ANONIMA</td><td>CRC</td><td>2000000,00</td><td>Sí</td><td>3 Meses</td><td>SERVICIOS</td><td>2000000</td></tr><tr><td>2016CD-000059-0006500001</td><td>0432016100900119</td><td>0103640954</td><td>COMISION NACIONAL DE PREVENCION DE RIESGOS Y ATENCION DE EMERGENCIAS</td><td>2016-10-04 07:00:58.0000000</td><td>NULL</td><td>Servicios</td><td>CONTRATACIÓN DIRECTA</td><td>CAMPAÑA PUBLICITARIA PARA LA TEMPORADA LLUVIOSA A NIVEL NACIONAL</td><td>GILDA CHACON BRENES</td><td>CRC</td><td>1400000,00</td><td>Sí</td><td>3 Meses</td><td>SERVICIOS</td><td>1400000</td></tr><tr><td>2016CD-000059-0006500001</td><td>0432016100900120</td><td>0109800395</td><td>COMISION NACIONAL DE PREVENCION DE RIESGOS Y ATENCION DE EMERGENCIAS</td><td>2016-10-04 07:06:40.0000000</td><td>NULL</td><td>Servicios</td><td>CONTRATACIÓN DIRECTA</td><td>CAMPAÑA PUBLICITARIA PARA LA TEMPORADA LLUVIOSA A NIVEL NACIONAL</td><td>CARLOS EDUARDO BEJARANO CHACON</td><td>CRC</td><td>1700000,00</td><td>Sí</td><td>3 Meses</td><td>SERVICIOS</td><td>1700000</td></tr><tr><td>2016CD-000059-0006500001</td><td>0432016100900123</td><td>0302160265</td><td>COMISION NACIONAL DE PREVENCION DE RIESGOS Y ATENCION DE EMERGENCIAS</td><td>2016-10-04 06:55:45.0000000</td><td>NULL</td><td>Servicios</td><td>CONTRATACIÓN DIRECTA</td><td>CAMPAÑA PUBLICITARIA PARA LA TEMPORADA LLUVIOSA A NIVEL NACIONAL</td><td>DAMARIS SANABRIA GONZALEZ</td><td>CRC</td><td>4615,39</td><td>Sí</td><td>Años</td><td>SERVICIOS</td><td>4615</td></tr></table>"
                    },
                    "metadata": {}
                }
            ],
            "execution_count": 11
        },
        {
            "cell_type": "code",
            "source": "SELECT * FROM cleandata.sicop_provider_categorylevel4_map\r\nWHERE provider_id = '3101102844'",
            "metadata": {},
            "outputs": [
                {
                    "output_type": "display_data",
                    "data": {
                        "text/html": "(88 rows affected)"
                    },
                    "metadata": {}
                },
                {
                    "output_type": "display_data",
                    "data": {
                        "text/html": "Total execution time: 00:00:42.061"
                    },
                    "metadata": {}
                },
                {
                    "output_type": "execute_result",
                    "metadata": {},
                    "execution_count": 6,
                    "data": {
                        "application/vnd.dataresource+json": {
                            "schema": {
                                "fields": [
                                    {
                                        "name": "category_id"
                                    },
                                    {
                                        "name": "provider_id"
                                    },
                                    {
                                        "name": "provider_name"
                                    },
                                    {
                                        "name": "provider_location"
                                    }
                                ]
                            },
                            "data": [
                                {
                                    "0": "14111503",
                                    "1": "3101102844",
                                    "2": "GRUPO NACION G N SOCIEDAD ANONIMA",
                                    "3": "\"[11303]   del cruce de Llorente 300mts Oeste. Anselmo Llorente, Tibas, San Jose\""
                                },
                                {
                                    "0": "14111505",
                                    "1": "3101102844",
                                    "2": "GRUPO NACION G N SOCIEDAD ANONIMA",
                                    "3": "\"[11303]   del cruce de Llorente 300mts Oeste. Anselmo Llorente, Tibas, San Jose\""
                                },
                                {
                                    "0": "14111506",
                                    "1": "3101102844",
                                    "2": "GRUPO NACION G N SOCIEDAD ANONIMA",
                                    "3": "\"[11303]   del cruce de Llorente 300mts Oeste. Anselmo Llorente, Tibas, San Jose\""
                                },
                                {
                                    "0": "14111507",
                                    "1": "3101102844",
                                    "2": "GRUPO NACION G N SOCIEDAD ANONIMA",
                                    "3": "\"[11303]   del cruce de Llorente 300mts Oeste. Anselmo Llorente, Tibas, San Jose\""
                                },
                                {
                                    "0": "14111508",
                                    "1": "3101102844",
                                    "2": "GRUPO NACION G N SOCIEDAD ANONIMA",
                                    "3": "\"[11303]   del cruce de Llorente 300mts Oeste. Anselmo Llorente, Tibas, San Jose\""
                                },
                                {
                                    "0": "14111509",
                                    "1": "3101102844",
                                    "2": "GRUPO NACION G N SOCIEDAD ANONIMA",
                                    "3": "\"[11303]   del cruce de Llorente 300mts Oeste. Anselmo Llorente, Tibas, San Jose\""
                                },
                                {
                                    "0": "14111511",
                                    "1": "3101102844",
                                    "2": "GRUPO NACION G N SOCIEDAD ANONIMA",
                                    "3": "\"[11303]   del cruce de Llorente 300mts Oeste. Anselmo Llorente, Tibas, San Jose\""
                                },
                                {
                                    "0": "14111512",
                                    "1": "3101102844",
                                    "2": "GRUPO NACION G N SOCIEDAD ANONIMA",
                                    "3": "\"[11303]   del cruce de Llorente 300mts Oeste. Anselmo Llorente, Tibas, San Jose\""
                                },
                                {
                                    "0": "14111514",
                                    "1": "3101102844",
                                    "2": "GRUPO NACION G N SOCIEDAD ANONIMA",
                                    "3": "\"[11303]   del cruce de Llorente 300mts Oeste. Anselmo Llorente, Tibas, San Jose\""
                                },
                                {
                                    "0": "14111515",
                                    "1": "3101102844",
                                    "2": "GRUPO NACION G N SOCIEDAD ANONIMA",
                                    "3": "\"[11303]   del cruce de Llorente 300mts Oeste. Anselmo Llorente, Tibas, San Jose\""
                                },
                                {
                                    "0": "14111516",
                                    "1": "3101102844",
                                    "2": "GRUPO NACION G N SOCIEDAD ANONIMA",
                                    "3": "\"[11303]   del cruce de Llorente 300mts Oeste. Anselmo Llorente, Tibas, San Jose\""
                                },
                                {
                                    "0": "14111518",
                                    "1": "3101102844",
                                    "2": "GRUPO NACION G N SOCIEDAD ANONIMA",
                                    "3": "\"[11303]   del cruce de Llorente 300mts Oeste. Anselmo Llorente, Tibas, San Jose\""
                                },
                                {
                                    "0": "14111525",
                                    "1": "3101102844",
                                    "2": "GRUPO NACION G N SOCIEDAD ANONIMA",
                                    "3": "\"[11303]   del cruce de Llorente 300mts Oeste. Anselmo Llorente, Tibas, San Jose\""
                                },
                                {
                                    "0": "14111526",
                                    "1": "3101102844",
                                    "2": "GRUPO NACION G N SOCIEDAD ANONIMA",
                                    "3": "\"[11303]   del cruce de Llorente 300mts Oeste. Anselmo Llorente, Tibas, San Jose\""
                                },
                                {
                                    "0": "14111527",
                                    "1": "3101102844",
                                    "2": "GRUPO NACION G N SOCIEDAD ANONIMA",
                                    "3": "\"[11303]   del cruce de Llorente 300mts Oeste. Anselmo Llorente, Tibas, San Jose\""
                                },
                                {
                                    "0": "14111530",
                                    "1": "3101102844",
                                    "2": "GRUPO NACION G N SOCIEDAD ANONIMA",
                                    "3": "\"[11303]   del cruce de Llorente 300mts Oeste. Anselmo Llorente, Tibas, San Jose\""
                                },
                                {
                                    "0": "14111531",
                                    "1": "3101102844",
                                    "2": "GRUPO NACION G N SOCIEDAD ANONIMA",
                                    "3": "\"[11303]   del cruce de Llorente 300mts Oeste. Anselmo Llorente, Tibas, San Jose\""
                                },
                                {
                                    "0": "14111532",
                                    "1": "3101102844",
                                    "2": "GRUPO NACION G N SOCIEDAD ANONIMA",
                                    "3": "\"[11303]   del cruce de Llorente 300mts Oeste. Anselmo Llorente, Tibas, San Jose\""
                                },
                                {
                                    "0": "14111533",
                                    "1": "3101102844",
                                    "2": "GRUPO NACION G N SOCIEDAD ANONIMA",
                                    "3": "\"[11303]   del cruce de Llorente 300mts Oeste. Anselmo Llorente, Tibas, San Jose\""
                                },
                                {
                                    "0": "14111534",
                                    "1": "3101102844",
                                    "2": "GRUPO NACION G N SOCIEDAD ANONIMA",
                                    "3": "\"[11303]   del cruce de Llorente 300mts Oeste. Anselmo Llorente, Tibas, San Jose\""
                                },
                                {
                                    "0": "14111537",
                                    "1": "3101102844",
                                    "2": "GRUPO NACION G N SOCIEDAD ANONIMA",
                                    "3": "\"[11303]   del cruce de Llorente 300mts Oeste. Anselmo Llorente, Tibas, San Jose\""
                                },
                                {
                                    "0": "14111538",
                                    "1": "3101102844",
                                    "2": "GRUPO NACION G N SOCIEDAD ANONIMA",
                                    "3": "\"[11303]   del cruce de Llorente 300mts Oeste. Anselmo Llorente, Tibas, San Jose\""
                                },
                                {
                                    "0": "14121901",
                                    "1": "3101102844",
                                    "2": "GRUPO NACION G N SOCIEDAD ANONIMA",
                                    "3": "\"[11303]   del cruce de Llorente 300mts Oeste. Anselmo Llorente, Tibas, San Jose\""
                                },
                                {
                                    "0": "14121902",
                                    "1": "3101102844",
                                    "2": "GRUPO NACION G N SOCIEDAD ANONIMA",
                                    "3": "\"[11303]   del cruce de Llorente 300mts Oeste. Anselmo Llorente, Tibas, San Jose\""
                                },
                                {
                                    "0": "14121903",
                                    "1": "3101102844",
                                    "2": "GRUPO NACION G N SOCIEDAD ANONIMA",
                                    "3": "\"[11303]   del cruce de Llorente 300mts Oeste. Anselmo Llorente, Tibas, San Jose\""
                                },
                                {
                                    "0": "14121904",
                                    "1": "3101102844",
                                    "2": "GRUPO NACION G N SOCIEDAD ANONIMA",
                                    "3": "\"[11303]   del cruce de Llorente 300mts Oeste. Anselmo Llorente, Tibas, San Jose\""
                                },
                                {
                                    "0": "82101504",
                                    "1": "3101102844",
                                    "2": "GRUPO NACION G N SOCIEDAD ANONIMA",
                                    "3": "\"[11303]   del cruce de Llorente 300mts Oeste. Anselmo Llorente, Tibas, San Jose\""
                                },
                                {
                                    "0": "82111904",
                                    "1": "3101102844",
                                    "2": "GRUPO NACION G N SOCIEDAD ANONIMA",
                                    "3": "\"[11303]   del cruce de Llorente 300mts Oeste. Anselmo Llorente, Tibas, San Jose\""
                                },
                                {
                                    "0": "82121503",
                                    "1": "3101102844",
                                    "2": "GRUPO NACION G N SOCIEDAD ANONIMA",
                                    "3": "\"[11303]   del cruce de Llorente 300mts Oeste. Anselmo Llorente, Tibas, San Jose\""
                                },
                                {
                                    "0": "82121504",
                                    "1": "3101102844",
                                    "2": "GRUPO NACION G N SOCIEDAD ANONIMA",
                                    "3": "\"[11303]   del cruce de Llorente 300mts Oeste. Anselmo Llorente, Tibas, San Jose\""
                                },
                                {
                                    "0": "82121505",
                                    "1": "3101102844",
                                    "2": "GRUPO NACION G N SOCIEDAD ANONIMA",
                                    "3": "\"[11303]   del cruce de Llorente 300mts Oeste. Anselmo Llorente, Tibas, San Jose\""
                                },
                                {
                                    "0": "81111509",
                                    "1": "3101102844",
                                    "2": "GRUPO NACION G N SOCIEDAD ANONIMA",
                                    "3": "\"[11303]   del cruce de Llorente 300mts Oeste. Anselmo Llorente, Tibas, San Jose\""
                                },
                                {
                                    "0": "82121506",
                                    "1": "3101102844",
                                    "2": "GRUPO NACION G N SOCIEDAD ANONIMA",
                                    "3": "\"[11303]   del cruce de Llorente 300mts Oeste. Anselmo Llorente, Tibas, San Jose\""
                                },
                                {
                                    "0": "82121507",
                                    "1": "3101102844",
                                    "2": "GRUPO NACION G N SOCIEDAD ANONIMA",
                                    "3": "\"[11303]   del cruce de Llorente 300mts Oeste. Anselmo Llorente, Tibas, San Jose\""
                                },
                                {
                                    "0": "82121508",
                                    "1": "3101102844",
                                    "2": "GRUPO NACION G N SOCIEDAD ANONIMA",
                                    "3": "\"[11303]   del cruce de Llorente 300mts Oeste. Anselmo Llorente, Tibas, San Jose\""
                                },
                                {
                                    "0": "82121509",
                                    "1": "3101102844",
                                    "2": "GRUPO NACION G N SOCIEDAD ANONIMA",
                                    "3": "\"[11303]   del cruce de Llorente 300mts Oeste. Anselmo Llorente, Tibas, San Jose\""
                                },
                                {
                                    "0": "82121511",
                                    "1": "3101102844",
                                    "2": "GRUPO NACION G N SOCIEDAD ANONIMA",
                                    "3": "\"[11303]   del cruce de Llorente 300mts Oeste. Anselmo Llorente, Tibas, San Jose\""
                                },
                                {
                                    "0": "80141513",
                                    "1": "3101102844",
                                    "2": "GRUPO NACION G N SOCIEDAD ANONIMA",
                                    "3": "\"[11303]   del cruce de Llorente 300mts Oeste. Anselmo Llorente, Tibas, San Jose\""
                                },
                                {
                                    "0": "80101511",
                                    "1": "3101102844",
                                    "2": "GRUPO NACION G N SOCIEDAD ANONIMA",
                                    "3": "\"[11303]   del cruce de Llorente 300mts Oeste. Anselmo Llorente, Tibas, San Jose\""
                                },
                                {
                                    "0": "80111719",
                                    "1": "3101102844",
                                    "2": "GRUPO NACION G N SOCIEDAD ANONIMA",
                                    "3": "\"[11303]   del cruce de Llorente 300mts Oeste. Anselmo Llorente, Tibas, San Jose\""
                                },
                                {
                                    "0": "93141802",
                                    "1": "3101102844",
                                    "2": "GRUPO NACION G N SOCIEDAD ANONIMA",
                                    "3": "\"[11303]   del cruce de Llorente 300mts Oeste. Anselmo Llorente, Tibas, San Jose\""
                                },
                                {
                                    "0": "93141806",
                                    "1": "3101102844",
                                    "2": "GRUPO NACION G N SOCIEDAD ANONIMA",
                                    "3": "\"[11303]   del cruce de Llorente 300mts Oeste. Anselmo Llorente, Tibas, San Jose\""
                                },
                                {
                                    "0": "55101586",
                                    "1": "3101102844",
                                    "2": "GRUPO NACION G N SOCIEDAD ANONIMA",
                                    "3": "\"[11303]   del cruce de Llorente 300mts Oeste. Anselmo Llorente, Tibas, San Jose\""
                                },
                                {
                                    "0": "55101501",
                                    "1": "3101102844",
                                    "2": "GRUPO NACION G N SOCIEDAD ANONIMA",
                                    "3": "\"[11303]   del cruce de Llorente 300mts Oeste. Anselmo Llorente, Tibas, San Jose\""
                                },
                                {
                                    "0": "55101502",
                                    "1": "3101102844",
                                    "2": "GRUPO NACION G N SOCIEDAD ANONIMA",
                                    "3": "\"[11303]   del cruce de Llorente 300mts Oeste. Anselmo Llorente, Tibas, San Jose\""
                                },
                                {
                                    "0": "55101503",
                                    "1": "3101102844",
                                    "2": "GRUPO NACION G N SOCIEDAD ANONIMA",
                                    "3": "\"[11303]   del cruce de Llorente 300mts Oeste. Anselmo Llorente, Tibas, San Jose\""
                                },
                                {
                                    "0": "55101504",
                                    "1": "3101102844",
                                    "2": "GRUPO NACION G N SOCIEDAD ANONIMA",
                                    "3": "\"[11303]   del cruce de Llorente 300mts Oeste. Anselmo Llorente, Tibas, San Jose\""
                                },
                                {
                                    "0": "55101505",
                                    "1": "3101102844",
                                    "2": "GRUPO NACION G N SOCIEDAD ANONIMA",
                                    "3": "\"[11303]   del cruce de Llorente 300mts Oeste. Anselmo Llorente, Tibas, San Jose\""
                                },
                                {
                                    "0": "55101506",
                                    "1": "3101102844",
                                    "2": "GRUPO NACION G N SOCIEDAD ANONIMA",
                                    "3": "\"[11303]   del cruce de Llorente 300mts Oeste. Anselmo Llorente, Tibas, San Jose\""
                                },
                                {
                                    "0": "55101507",
                                    "1": "3101102844",
                                    "2": "GRUPO NACION G N SOCIEDAD ANONIMA",
                                    "3": "\"[11303]   del cruce de Llorente 300mts Oeste. Anselmo Llorente, Tibas, San Jose\""
                                },
                                {
                                    "0": "55101509",
                                    "1": "3101102844",
                                    "2": "GRUPO NACION G N SOCIEDAD ANONIMA",
                                    "3": "\"[11303]   del cruce de Llorente 300mts Oeste. Anselmo Llorente, Tibas, San Jose\""
                                },
                                {
                                    "0": "55101510",
                                    "1": "3101102844",
                                    "2": "GRUPO NACION G N SOCIEDAD ANONIMA",
                                    "3": "\"[11303]   del cruce de Llorente 300mts Oeste. Anselmo Llorente, Tibas, San Jose\""
                                },
                                {
                                    "0": "55101513",
                                    "1": "3101102844",
                                    "2": "GRUPO NACION G N SOCIEDAD ANONIMA",
                                    "3": "\"[11303]   del cruce de Llorente 300mts Oeste. Anselmo Llorente, Tibas, San Jose\""
                                },
                                {
                                    "0": "55101514",
                                    "1": "3101102844",
                                    "2": "GRUPO NACION G N SOCIEDAD ANONIMA",
                                    "3": "\"[11303]   del cruce de Llorente 300mts Oeste. Anselmo Llorente, Tibas, San Jose\""
                                },
                                {
                                    "0": "55101515",
                                    "1": "3101102844",
                                    "2": "GRUPO NACION G N SOCIEDAD ANONIMA",
                                    "3": "\"[11303]   del cruce de Llorente 300mts Oeste. Anselmo Llorente, Tibas, San Jose\""
                                },
                                {
                                    "0": "55101516",
                                    "1": "3101102844",
                                    "2": "GRUPO NACION G N SOCIEDAD ANONIMA",
                                    "3": "\"[11303]   del cruce de Llorente 300mts Oeste. Anselmo Llorente, Tibas, San Jose\""
                                },
                                {
                                    "0": "55101517",
                                    "1": "3101102844",
                                    "2": "GRUPO NACION G N SOCIEDAD ANONIMA",
                                    "3": "\"[11303]   del cruce de Llorente 300mts Oeste. Anselmo Llorente, Tibas, San Jose\""
                                },
                                {
                                    "0": "55101518",
                                    "1": "3101102844",
                                    "2": "GRUPO NACION G N SOCIEDAD ANONIMA",
                                    "3": "\"[11303]   del cruce de Llorente 300mts Oeste. Anselmo Llorente, Tibas, San Jose\""
                                },
                                {
                                    "0": "55101519",
                                    "1": "3101102844",
                                    "2": "GRUPO NACION G N SOCIEDAD ANONIMA",
                                    "3": "\"[11303]   del cruce de Llorente 300mts Oeste. Anselmo Llorente, Tibas, San Jose\""
                                },
                                {
                                    "0": "55101520",
                                    "1": "3101102844",
                                    "2": "GRUPO NACION G N SOCIEDAD ANONIMA",
                                    "3": "\"[11303]   del cruce de Llorente 300mts Oeste. Anselmo Llorente, Tibas, San Jose\""
                                },
                                {
                                    "0": "55101521",
                                    "1": "3101102844",
                                    "2": "GRUPO NACION G N SOCIEDAD ANONIMA",
                                    "3": "\"[11303]   del cruce de Llorente 300mts Oeste. Anselmo Llorente, Tibas, San Jose\""
                                },
                                {
                                    "0": "55101522",
                                    "1": "3101102844",
                                    "2": "GRUPO NACION G N SOCIEDAD ANONIMA",
                                    "3": "\"[11303]   del cruce de Llorente 300mts Oeste. Anselmo Llorente, Tibas, San Jose\""
                                },
                                {
                                    "0": "55101524",
                                    "1": "3101102844",
                                    "2": "GRUPO NACION G N SOCIEDAD ANONIMA",
                                    "3": "\"[11303]   del cruce de Llorente 300mts Oeste. Anselmo Llorente, Tibas, San Jose\""
                                },
                                {
                                    "0": "55101525",
                                    "1": "3101102844",
                                    "2": "GRUPO NACION G N SOCIEDAD ANONIMA",
                                    "3": "\"[11303]   del cruce de Llorente 300mts Oeste. Anselmo Llorente, Tibas, San Jose\""
                                },
                                {
                                    "0": "55101526",
                                    "1": "3101102844",
                                    "2": "GRUPO NACION G N SOCIEDAD ANONIMA",
                                    "3": "\"[11303]   del cruce de Llorente 300mts Oeste. Anselmo Llorente, Tibas, San Jose\""
                                },
                                {
                                    "0": "55101527",
                                    "1": "3101102844",
                                    "2": "GRUPO NACION G N SOCIEDAD ANONIMA",
                                    "3": "\"[11303]   del cruce de Llorente 300mts Oeste. Anselmo Llorente, Tibas, San Jose\""
                                },
                                {
                                    "0": "55101532",
                                    "1": "3101102844",
                                    "2": "GRUPO NACION G N SOCIEDAD ANONIMA",
                                    "3": "\"[11303]   del cruce de Llorente 300mts Oeste. Anselmo Llorente, Tibas, San Jose\""
                                },
                                {
                                    "0": "55101528",
                                    "1": "3101102844",
                                    "2": "GRUPO NACION G N SOCIEDAD ANONIMA",
                                    "3": "\"[11303]   del cruce de Llorente 300mts Oeste. Anselmo Llorente, Tibas, San Jose\""
                                },
                                {
                                    "0": "55101529",
                                    "1": "3101102844",
                                    "2": "GRUPO NACION G N SOCIEDAD ANONIMA",
                                    "3": "\"[11303]   del cruce de Llorente 300mts Oeste. Anselmo Llorente, Tibas, San Jose\""
                                },
                                {
                                    "0": "55101530",
                                    "1": "3101102844",
                                    "2": "GRUPO NACION G N SOCIEDAD ANONIMA",
                                    "3": "\"[11303]   del cruce de Llorente 300mts Oeste. Anselmo Llorente, Tibas, San Jose\""
                                },
                                {
                                    "0": "55101531",
                                    "1": "3101102844",
                                    "2": "GRUPO NACION G N SOCIEDAD ANONIMA",
                                    "3": "\"[11303]   del cruce de Llorente 300mts Oeste. Anselmo Llorente, Tibas, San Jose\""
                                },
                                {
                                    "0": "55101585",
                                    "1": "3101102844",
                                    "2": "GRUPO NACION G N SOCIEDAD ANONIMA",
                                    "3": "\"[11303]   del cruce de Llorente 300mts Oeste. Anselmo Llorente, Tibas, San Jose\""
                                },
                                {
                                    "0": "55101587",
                                    "1": "3101102844",
                                    "2": "GRUPO NACION G N SOCIEDAD ANONIMA",
                                    "3": "\"[11303]   del cruce de Llorente 300mts Oeste. Anselmo Llorente, Tibas, San Jose\""
                                },
                                {
                                    "0": "55101588",
                                    "1": "3101102844",
                                    "2": "GRUPO NACION G N SOCIEDAD ANONIMA",
                                    "3": "\"[11303]   del cruce de Llorente 300mts Oeste. Anselmo Llorente, Tibas, San Jose\""
                                },
                                {
                                    "0": "55101589",
                                    "1": "3101102844",
                                    "2": "GRUPO NACION G N SOCIEDAD ANONIMA",
                                    "3": "\"[11303]   del cruce de Llorente 300mts Oeste. Anselmo Llorente, Tibas, San Jose\""
                                },
                                {
                                    "0": "55101590",
                                    "1": "3101102844",
                                    "2": "GRUPO NACION G N SOCIEDAD ANONIMA",
                                    "3": "\"[11303]   del cruce de Llorente 300mts Oeste. Anselmo Llorente, Tibas, San Jose\""
                                },
                                {
                                    "0": "55101591",
                                    "1": "3101102844",
                                    "2": "GRUPO NACION G N SOCIEDAD ANONIMA",
                                    "3": "\"[11303]   del cruce de Llorente 300mts Oeste. Anselmo Llorente, Tibas, San Jose\""
                                },
                                {
                                    "0": "55101592",
                                    "1": "3101102844",
                                    "2": "GRUPO NACION G N SOCIEDAD ANONIMA",
                                    "3": "\"[11303]   del cruce de Llorente 300mts Oeste. Anselmo Llorente, Tibas, San Jose\""
                                },
                                {
                                    "0": "55101593",
                                    "1": "3101102844",
                                    "2": "GRUPO NACION G N SOCIEDAD ANONIMA",
                                    "3": "\"[11303]   del cruce de Llorente 300mts Oeste. Anselmo Llorente, Tibas, San Jose\""
                                },
                                {
                                    "0": "55101594",
                                    "1": "3101102844",
                                    "2": "GRUPO NACION G N SOCIEDAD ANONIMA",
                                    "3": "\"[11303]   del cruce de Llorente 300mts Oeste. Anselmo Llorente, Tibas, San Jose\""
                                },
                                {
                                    "0": "55101595",
                                    "1": "3101102844",
                                    "2": "GRUPO NACION G N SOCIEDAD ANONIMA",
                                    "3": "\"[11303]   del cruce de Llorente 300mts Oeste. Anselmo Llorente, Tibas, San Jose\""
                                },
                                {
                                    "0": "55101596",
                                    "1": "3101102844",
                                    "2": "GRUPO NACION G N SOCIEDAD ANONIMA",
                                    "3": "\"[11303]   del cruce de Llorente 300mts Oeste. Anselmo Llorente, Tibas, San Jose\""
                                },
                                {
                                    "0": "55101597",
                                    "1": "3101102844",
                                    "2": "GRUPO NACION G N SOCIEDAD ANONIMA",
                                    "3": "\"[11303]   del cruce de Llorente 300mts Oeste. Anselmo Llorente, Tibas, San Jose\""
                                },
                                {
                                    "0": "55101598",
                                    "1": "3101102844",
                                    "2": "GRUPO NACION G N SOCIEDAD ANONIMA",
                                    "3": "\"[11303]   del cruce de Llorente 300mts Oeste. Anselmo Llorente, Tibas, San Jose\""
                                },
                                {
                                    "0": "55101599",
                                    "1": "3101102844",
                                    "2": "GRUPO NACION G N SOCIEDAD ANONIMA",
                                    "3": "\"[11303]   del cruce de Llorente 300mts Oeste. Anselmo Llorente, Tibas, San Jose\""
                                },
                                {
                                    "0": "86111797",
                                    "1": "3101102844",
                                    "2": "GRUPO NACION G N SOCIEDAD ANONIMA",
                                    "3": "\"[11303]   del cruce de Llorente 300mts Oeste. Anselmo Llorente, Tibas, San Jose\""
                                },
                                {
                                    "0": "60103704",
                                    "1": "3101102844",
                                    "2": "GRUPO NACION G N SOCIEDAD ANONIMA",
                                    "3": "\"[11303]   del cruce de Llorente 300mts Oeste. Anselmo Llorente, Tibas, San Jose\""
                                },
                                {
                                    "0": "60106299",
                                    "1": "3101102844",
                                    "2": "GRUPO NACION G N SOCIEDAD ANONIMA",
                                    "3": "\"[11303]   del cruce de Llorente 300mts Oeste. Anselmo Llorente, Tibas, San Jose\""
                                }
                            ]
                        },
                        "text/html": "<table><tr><th>category_id</th><th>provider_id</th><th>provider_name</th><th>provider_location</th></tr><tr><td>14111503</td><td>3101102844</td><td>GRUPO NACION G N SOCIEDAD ANONIMA</td><td>&quot;[11303]   del cruce de Llorente 300mts Oeste. Anselmo Llorente, Tibas, San Jose&quot;</td></tr><tr><td>14111505</td><td>3101102844</td><td>GRUPO NACION G N SOCIEDAD ANONIMA</td><td>&quot;[11303]   del cruce de Llorente 300mts Oeste. Anselmo Llorente, Tibas, San Jose&quot;</td></tr><tr><td>14111506</td><td>3101102844</td><td>GRUPO NACION G N SOCIEDAD ANONIMA</td><td>&quot;[11303]   del cruce de Llorente 300mts Oeste. Anselmo Llorente, Tibas, San Jose&quot;</td></tr><tr><td>14111507</td><td>3101102844</td><td>GRUPO NACION G N SOCIEDAD ANONIMA</td><td>&quot;[11303]   del cruce de Llorente 300mts Oeste. Anselmo Llorente, Tibas, San Jose&quot;</td></tr><tr><td>14111508</td><td>3101102844</td><td>GRUPO NACION G N SOCIEDAD ANONIMA</td><td>&quot;[11303]   del cruce de Llorente 300mts Oeste. Anselmo Llorente, Tibas, San Jose&quot;</td></tr><tr><td>14111509</td><td>3101102844</td><td>GRUPO NACION G N SOCIEDAD ANONIMA</td><td>&quot;[11303]   del cruce de Llorente 300mts Oeste. Anselmo Llorente, Tibas, San Jose&quot;</td></tr><tr><td>14111511</td><td>3101102844</td><td>GRUPO NACION G N SOCIEDAD ANONIMA</td><td>&quot;[11303]   del cruce de Llorente 300mts Oeste. Anselmo Llorente, Tibas, San Jose&quot;</td></tr><tr><td>14111512</td><td>3101102844</td><td>GRUPO NACION G N SOCIEDAD ANONIMA</td><td>&quot;[11303]   del cruce de Llorente 300mts Oeste. Anselmo Llorente, Tibas, San Jose&quot;</td></tr><tr><td>14111514</td><td>3101102844</td><td>GRUPO NACION G N SOCIEDAD ANONIMA</td><td>&quot;[11303]   del cruce de Llorente 300mts Oeste. Anselmo Llorente, Tibas, San Jose&quot;</td></tr><tr><td>14111515</td><td>3101102844</td><td>GRUPO NACION G N SOCIEDAD ANONIMA</td><td>&quot;[11303]   del cruce de Llorente 300mts Oeste. Anselmo Llorente, Tibas, San Jose&quot;</td></tr><tr><td>14111516</td><td>3101102844</td><td>GRUPO NACION G N SOCIEDAD ANONIMA</td><td>&quot;[11303]   del cruce de Llorente 300mts Oeste. Anselmo Llorente, Tibas, San Jose&quot;</td></tr><tr><td>14111518</td><td>3101102844</td><td>GRUPO NACION G N SOCIEDAD ANONIMA</td><td>&quot;[11303]   del cruce de Llorente 300mts Oeste. Anselmo Llorente, Tibas, San Jose&quot;</td></tr><tr><td>14111525</td><td>3101102844</td><td>GRUPO NACION G N SOCIEDAD ANONIMA</td><td>&quot;[11303]   del cruce de Llorente 300mts Oeste. Anselmo Llorente, Tibas, San Jose&quot;</td></tr><tr><td>14111526</td><td>3101102844</td><td>GRUPO NACION G N SOCIEDAD ANONIMA</td><td>&quot;[11303]   del cruce de Llorente 300mts Oeste. Anselmo Llorente, Tibas, San Jose&quot;</td></tr><tr><td>14111527</td><td>3101102844</td><td>GRUPO NACION G N SOCIEDAD ANONIMA</td><td>&quot;[11303]   del cruce de Llorente 300mts Oeste. Anselmo Llorente, Tibas, San Jose&quot;</td></tr><tr><td>14111530</td><td>3101102844</td><td>GRUPO NACION G N SOCIEDAD ANONIMA</td><td>&quot;[11303]   del cruce de Llorente 300mts Oeste. Anselmo Llorente, Tibas, San Jose&quot;</td></tr><tr><td>14111531</td><td>3101102844</td><td>GRUPO NACION G N SOCIEDAD ANONIMA</td><td>&quot;[11303]   del cruce de Llorente 300mts Oeste. Anselmo Llorente, Tibas, San Jose&quot;</td></tr><tr><td>14111532</td><td>3101102844</td><td>GRUPO NACION G N SOCIEDAD ANONIMA</td><td>&quot;[11303]   del cruce de Llorente 300mts Oeste. Anselmo Llorente, Tibas, San Jose&quot;</td></tr><tr><td>14111533</td><td>3101102844</td><td>GRUPO NACION G N SOCIEDAD ANONIMA</td><td>&quot;[11303]   del cruce de Llorente 300mts Oeste. Anselmo Llorente, Tibas, San Jose&quot;</td></tr><tr><td>14111534</td><td>3101102844</td><td>GRUPO NACION G N SOCIEDAD ANONIMA</td><td>&quot;[11303]   del cruce de Llorente 300mts Oeste. Anselmo Llorente, Tibas, San Jose&quot;</td></tr><tr><td>14111537</td><td>3101102844</td><td>GRUPO NACION G N SOCIEDAD ANONIMA</td><td>&quot;[11303]   del cruce de Llorente 300mts Oeste. Anselmo Llorente, Tibas, San Jose&quot;</td></tr><tr><td>14111538</td><td>3101102844</td><td>GRUPO NACION G N SOCIEDAD ANONIMA</td><td>&quot;[11303]   del cruce de Llorente 300mts Oeste. Anselmo Llorente, Tibas, San Jose&quot;</td></tr><tr><td>14121901</td><td>3101102844</td><td>GRUPO NACION G N SOCIEDAD ANONIMA</td><td>&quot;[11303]   del cruce de Llorente 300mts Oeste. Anselmo Llorente, Tibas, San Jose&quot;</td></tr><tr><td>14121902</td><td>3101102844</td><td>GRUPO NACION G N SOCIEDAD ANONIMA</td><td>&quot;[11303]   del cruce de Llorente 300mts Oeste. Anselmo Llorente, Tibas, San Jose&quot;</td></tr><tr><td>14121903</td><td>3101102844</td><td>GRUPO NACION G N SOCIEDAD ANONIMA</td><td>&quot;[11303]   del cruce de Llorente 300mts Oeste. Anselmo Llorente, Tibas, San Jose&quot;</td></tr><tr><td>14121904</td><td>3101102844</td><td>GRUPO NACION G N SOCIEDAD ANONIMA</td><td>&quot;[11303]   del cruce de Llorente 300mts Oeste. Anselmo Llorente, Tibas, San Jose&quot;</td></tr><tr><td>82101504</td><td>3101102844</td><td>GRUPO NACION G N SOCIEDAD ANONIMA</td><td>&quot;[11303]   del cruce de Llorente 300mts Oeste. Anselmo Llorente, Tibas, San Jose&quot;</td></tr><tr><td>82111904</td><td>3101102844</td><td>GRUPO NACION G N SOCIEDAD ANONIMA</td><td>&quot;[11303]   del cruce de Llorente 300mts Oeste. Anselmo Llorente, Tibas, San Jose&quot;</td></tr><tr><td>82121503</td><td>3101102844</td><td>GRUPO NACION G N SOCIEDAD ANONIMA</td><td>&quot;[11303]   del cruce de Llorente 300mts Oeste. Anselmo Llorente, Tibas, San Jose&quot;</td></tr><tr><td>82121504</td><td>3101102844</td><td>GRUPO NACION G N SOCIEDAD ANONIMA</td><td>&quot;[11303]   del cruce de Llorente 300mts Oeste. Anselmo Llorente, Tibas, San Jose&quot;</td></tr><tr><td>82121505</td><td>3101102844</td><td>GRUPO NACION G N SOCIEDAD ANONIMA</td><td>&quot;[11303]   del cruce de Llorente 300mts Oeste. Anselmo Llorente, Tibas, San Jose&quot;</td></tr><tr><td>81111509</td><td>3101102844</td><td>GRUPO NACION G N SOCIEDAD ANONIMA</td><td>&quot;[11303]   del cruce de Llorente 300mts Oeste. Anselmo Llorente, Tibas, San Jose&quot;</td></tr><tr><td>82121506</td><td>3101102844</td><td>GRUPO NACION G N SOCIEDAD ANONIMA</td><td>&quot;[11303]   del cruce de Llorente 300mts Oeste. Anselmo Llorente, Tibas, San Jose&quot;</td></tr><tr><td>82121507</td><td>3101102844</td><td>GRUPO NACION G N SOCIEDAD ANONIMA</td><td>&quot;[11303]   del cruce de Llorente 300mts Oeste. Anselmo Llorente, Tibas, San Jose&quot;</td></tr><tr><td>82121508</td><td>3101102844</td><td>GRUPO NACION G N SOCIEDAD ANONIMA</td><td>&quot;[11303]   del cruce de Llorente 300mts Oeste. Anselmo Llorente, Tibas, San Jose&quot;</td></tr><tr><td>82121509</td><td>3101102844</td><td>GRUPO NACION G N SOCIEDAD ANONIMA</td><td>&quot;[11303]   del cruce de Llorente 300mts Oeste. Anselmo Llorente, Tibas, San Jose&quot;</td></tr><tr><td>82121511</td><td>3101102844</td><td>GRUPO NACION G N SOCIEDAD ANONIMA</td><td>&quot;[11303]   del cruce de Llorente 300mts Oeste. Anselmo Llorente, Tibas, San Jose&quot;</td></tr><tr><td>80141513</td><td>3101102844</td><td>GRUPO NACION G N SOCIEDAD ANONIMA</td><td>&quot;[11303]   del cruce de Llorente 300mts Oeste. Anselmo Llorente, Tibas, San Jose&quot;</td></tr><tr><td>80101511</td><td>3101102844</td><td>GRUPO NACION G N SOCIEDAD ANONIMA</td><td>&quot;[11303]   del cruce de Llorente 300mts Oeste. Anselmo Llorente, Tibas, San Jose&quot;</td></tr><tr><td>80111719</td><td>3101102844</td><td>GRUPO NACION G N SOCIEDAD ANONIMA</td><td>&quot;[11303]   del cruce de Llorente 300mts Oeste. Anselmo Llorente, Tibas, San Jose&quot;</td></tr><tr><td>93141802</td><td>3101102844</td><td>GRUPO NACION G N SOCIEDAD ANONIMA</td><td>&quot;[11303]   del cruce de Llorente 300mts Oeste. Anselmo Llorente, Tibas, San Jose&quot;</td></tr><tr><td>93141806</td><td>3101102844</td><td>GRUPO NACION G N SOCIEDAD ANONIMA</td><td>&quot;[11303]   del cruce de Llorente 300mts Oeste. Anselmo Llorente, Tibas, San Jose&quot;</td></tr><tr><td>55101586</td><td>3101102844</td><td>GRUPO NACION G N SOCIEDAD ANONIMA</td><td>&quot;[11303]   del cruce de Llorente 300mts Oeste. Anselmo Llorente, Tibas, San Jose&quot;</td></tr><tr><td>55101501</td><td>3101102844</td><td>GRUPO NACION G N SOCIEDAD ANONIMA</td><td>&quot;[11303]   del cruce de Llorente 300mts Oeste. Anselmo Llorente, Tibas, San Jose&quot;</td></tr><tr><td>55101502</td><td>3101102844</td><td>GRUPO NACION G N SOCIEDAD ANONIMA</td><td>&quot;[11303]   del cruce de Llorente 300mts Oeste. Anselmo Llorente, Tibas, San Jose&quot;</td></tr><tr><td>55101503</td><td>3101102844</td><td>GRUPO NACION G N SOCIEDAD ANONIMA</td><td>&quot;[11303]   del cruce de Llorente 300mts Oeste. Anselmo Llorente, Tibas, San Jose&quot;</td></tr><tr><td>55101504</td><td>3101102844</td><td>GRUPO NACION G N SOCIEDAD ANONIMA</td><td>&quot;[11303]   del cruce de Llorente 300mts Oeste. Anselmo Llorente, Tibas, San Jose&quot;</td></tr><tr><td>55101505</td><td>3101102844</td><td>GRUPO NACION G N SOCIEDAD ANONIMA</td><td>&quot;[11303]   del cruce de Llorente 300mts Oeste. Anselmo Llorente, Tibas, San Jose&quot;</td></tr><tr><td>55101506</td><td>3101102844</td><td>GRUPO NACION G N SOCIEDAD ANONIMA</td><td>&quot;[11303]   del cruce de Llorente 300mts Oeste. Anselmo Llorente, Tibas, San Jose&quot;</td></tr><tr><td>55101507</td><td>3101102844</td><td>GRUPO NACION G N SOCIEDAD ANONIMA</td><td>&quot;[11303]   del cruce de Llorente 300mts Oeste. Anselmo Llorente, Tibas, San Jose&quot;</td></tr><tr><td>55101509</td><td>3101102844</td><td>GRUPO NACION G N SOCIEDAD ANONIMA</td><td>&quot;[11303]   del cruce de Llorente 300mts Oeste. Anselmo Llorente, Tibas, San Jose&quot;</td></tr><tr><td>55101510</td><td>3101102844</td><td>GRUPO NACION G N SOCIEDAD ANONIMA</td><td>&quot;[11303]   del cruce de Llorente 300mts Oeste. Anselmo Llorente, Tibas, San Jose&quot;</td></tr><tr><td>55101513</td><td>3101102844</td><td>GRUPO NACION G N SOCIEDAD ANONIMA</td><td>&quot;[11303]   del cruce de Llorente 300mts Oeste. Anselmo Llorente, Tibas, San Jose&quot;</td></tr><tr><td>55101514</td><td>3101102844</td><td>GRUPO NACION G N SOCIEDAD ANONIMA</td><td>&quot;[11303]   del cruce de Llorente 300mts Oeste. Anselmo Llorente, Tibas, San Jose&quot;</td></tr><tr><td>55101515</td><td>3101102844</td><td>GRUPO NACION G N SOCIEDAD ANONIMA</td><td>&quot;[11303]   del cruce de Llorente 300mts Oeste. Anselmo Llorente, Tibas, San Jose&quot;</td></tr><tr><td>55101516</td><td>3101102844</td><td>GRUPO NACION G N SOCIEDAD ANONIMA</td><td>&quot;[11303]   del cruce de Llorente 300mts Oeste. Anselmo Llorente, Tibas, San Jose&quot;</td></tr><tr><td>55101517</td><td>3101102844</td><td>GRUPO NACION G N SOCIEDAD ANONIMA</td><td>&quot;[11303]   del cruce de Llorente 300mts Oeste. Anselmo Llorente, Tibas, San Jose&quot;</td></tr><tr><td>55101518</td><td>3101102844</td><td>GRUPO NACION G N SOCIEDAD ANONIMA</td><td>&quot;[11303]   del cruce de Llorente 300mts Oeste. Anselmo Llorente, Tibas, San Jose&quot;</td></tr><tr><td>55101519</td><td>3101102844</td><td>GRUPO NACION G N SOCIEDAD ANONIMA</td><td>&quot;[11303]   del cruce de Llorente 300mts Oeste. Anselmo Llorente, Tibas, San Jose&quot;</td></tr><tr><td>55101520</td><td>3101102844</td><td>GRUPO NACION G N SOCIEDAD ANONIMA</td><td>&quot;[11303]   del cruce de Llorente 300mts Oeste. Anselmo Llorente, Tibas, San Jose&quot;</td></tr><tr><td>55101521</td><td>3101102844</td><td>GRUPO NACION G N SOCIEDAD ANONIMA</td><td>&quot;[11303]   del cruce de Llorente 300mts Oeste. Anselmo Llorente, Tibas, San Jose&quot;</td></tr><tr><td>55101522</td><td>3101102844</td><td>GRUPO NACION G N SOCIEDAD ANONIMA</td><td>&quot;[11303]   del cruce de Llorente 300mts Oeste. Anselmo Llorente, Tibas, San Jose&quot;</td></tr><tr><td>55101524</td><td>3101102844</td><td>GRUPO NACION G N SOCIEDAD ANONIMA</td><td>&quot;[11303]   del cruce de Llorente 300mts Oeste. Anselmo Llorente, Tibas, San Jose&quot;</td></tr><tr><td>55101525</td><td>3101102844</td><td>GRUPO NACION G N SOCIEDAD ANONIMA</td><td>&quot;[11303]   del cruce de Llorente 300mts Oeste. Anselmo Llorente, Tibas, San Jose&quot;</td></tr><tr><td>55101526</td><td>3101102844</td><td>GRUPO NACION G N SOCIEDAD ANONIMA</td><td>&quot;[11303]   del cruce de Llorente 300mts Oeste. Anselmo Llorente, Tibas, San Jose&quot;</td></tr><tr><td>55101527</td><td>3101102844</td><td>GRUPO NACION G N SOCIEDAD ANONIMA</td><td>&quot;[11303]   del cruce de Llorente 300mts Oeste. Anselmo Llorente, Tibas, San Jose&quot;</td></tr><tr><td>55101532</td><td>3101102844</td><td>GRUPO NACION G N SOCIEDAD ANONIMA</td><td>&quot;[11303]   del cruce de Llorente 300mts Oeste. Anselmo Llorente, Tibas, San Jose&quot;</td></tr><tr><td>55101528</td><td>3101102844</td><td>GRUPO NACION G N SOCIEDAD ANONIMA</td><td>&quot;[11303]   del cruce de Llorente 300mts Oeste. Anselmo Llorente, Tibas, San Jose&quot;</td></tr><tr><td>55101529</td><td>3101102844</td><td>GRUPO NACION G N SOCIEDAD ANONIMA</td><td>&quot;[11303]   del cruce de Llorente 300mts Oeste. Anselmo Llorente, Tibas, San Jose&quot;</td></tr><tr><td>55101530</td><td>3101102844</td><td>GRUPO NACION G N SOCIEDAD ANONIMA</td><td>&quot;[11303]   del cruce de Llorente 300mts Oeste. Anselmo Llorente, Tibas, San Jose&quot;</td></tr><tr><td>55101531</td><td>3101102844</td><td>GRUPO NACION G N SOCIEDAD ANONIMA</td><td>&quot;[11303]   del cruce de Llorente 300mts Oeste. Anselmo Llorente, Tibas, San Jose&quot;</td></tr><tr><td>55101585</td><td>3101102844</td><td>GRUPO NACION G N SOCIEDAD ANONIMA</td><td>&quot;[11303]   del cruce de Llorente 300mts Oeste. Anselmo Llorente, Tibas, San Jose&quot;</td></tr><tr><td>55101587</td><td>3101102844</td><td>GRUPO NACION G N SOCIEDAD ANONIMA</td><td>&quot;[11303]   del cruce de Llorente 300mts Oeste. Anselmo Llorente, Tibas, San Jose&quot;</td></tr><tr><td>55101588</td><td>3101102844</td><td>GRUPO NACION G N SOCIEDAD ANONIMA</td><td>&quot;[11303]   del cruce de Llorente 300mts Oeste. Anselmo Llorente, Tibas, San Jose&quot;</td></tr><tr><td>55101589</td><td>3101102844</td><td>GRUPO NACION G N SOCIEDAD ANONIMA</td><td>&quot;[11303]   del cruce de Llorente 300mts Oeste. Anselmo Llorente, Tibas, San Jose&quot;</td></tr><tr><td>55101590</td><td>3101102844</td><td>GRUPO NACION G N SOCIEDAD ANONIMA</td><td>&quot;[11303]   del cruce de Llorente 300mts Oeste. Anselmo Llorente, Tibas, San Jose&quot;</td></tr><tr><td>55101591</td><td>3101102844</td><td>GRUPO NACION G N SOCIEDAD ANONIMA</td><td>&quot;[11303]   del cruce de Llorente 300mts Oeste. Anselmo Llorente, Tibas, San Jose&quot;</td></tr><tr><td>55101592</td><td>3101102844</td><td>GRUPO NACION G N SOCIEDAD ANONIMA</td><td>&quot;[11303]   del cruce de Llorente 300mts Oeste. Anselmo Llorente, Tibas, San Jose&quot;</td></tr><tr><td>55101593</td><td>3101102844</td><td>GRUPO NACION G N SOCIEDAD ANONIMA</td><td>&quot;[11303]   del cruce de Llorente 300mts Oeste. Anselmo Llorente, Tibas, San Jose&quot;</td></tr><tr><td>55101594</td><td>3101102844</td><td>GRUPO NACION G N SOCIEDAD ANONIMA</td><td>&quot;[11303]   del cruce de Llorente 300mts Oeste. Anselmo Llorente, Tibas, San Jose&quot;</td></tr><tr><td>55101595</td><td>3101102844</td><td>GRUPO NACION G N SOCIEDAD ANONIMA</td><td>&quot;[11303]   del cruce de Llorente 300mts Oeste. Anselmo Llorente, Tibas, San Jose&quot;</td></tr><tr><td>55101596</td><td>3101102844</td><td>GRUPO NACION G N SOCIEDAD ANONIMA</td><td>&quot;[11303]   del cruce de Llorente 300mts Oeste. Anselmo Llorente, Tibas, San Jose&quot;</td></tr><tr><td>55101597</td><td>3101102844</td><td>GRUPO NACION G N SOCIEDAD ANONIMA</td><td>&quot;[11303]   del cruce de Llorente 300mts Oeste. Anselmo Llorente, Tibas, San Jose&quot;</td></tr><tr><td>55101598</td><td>3101102844</td><td>GRUPO NACION G N SOCIEDAD ANONIMA</td><td>&quot;[11303]   del cruce de Llorente 300mts Oeste. Anselmo Llorente, Tibas, San Jose&quot;</td></tr><tr><td>55101599</td><td>3101102844</td><td>GRUPO NACION G N SOCIEDAD ANONIMA</td><td>&quot;[11303]   del cruce de Llorente 300mts Oeste. Anselmo Llorente, Tibas, San Jose&quot;</td></tr><tr><td>86111797</td><td>3101102844</td><td>GRUPO NACION G N SOCIEDAD ANONIMA</td><td>&quot;[11303]   del cruce de Llorente 300mts Oeste. Anselmo Llorente, Tibas, San Jose&quot;</td></tr><tr><td>60103704</td><td>3101102844</td><td>GRUPO NACION G N SOCIEDAD ANONIMA</td><td>&quot;[11303]   del cruce de Llorente 300mts Oeste. Anselmo Llorente, Tibas, San Jose&quot;</td></tr><tr><td>60106299</td><td>3101102844</td><td>GRUPO NACION G N SOCIEDAD ANONIMA</td><td>&quot;[11303]   del cruce de Llorente 300mts Oeste. Anselmo Llorente, Tibas, San Jose&quot;</td></tr></table>"
                    }
                }
            ],
            "execution_count": 6
        }
    ]
}