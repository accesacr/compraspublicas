{
    "metadata": {
        "kernelspec": {
            "name": "SQL",
            "display_name": "SQL",
            "language": "sql"
        },
        "language_info": {
            "name": "sql",
            "version": ""
        }
    },
    "nbformat_minor": 2,
    "nbformat": 4,
    "cells": [
        {
            "cell_type": "code",
            "source": "SELECT \r\n\r\nFROM [Export].[AdjudicacionesSIAC] AS a\r\nINNER JOIN [Export].[ProveedoresSICOP] AS p ON a.CEDULA_OFERENTE_ADJUDICADO = p.[Cedula]\r\n\r\n",
            "metadata": {},
            "outputs": [],
            "execution_count": 0
        }
    ]
}