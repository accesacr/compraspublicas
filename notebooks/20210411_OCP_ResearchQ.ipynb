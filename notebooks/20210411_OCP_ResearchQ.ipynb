{
    "metadata": {
        "kernelspec": {
            "name": "SQL",
            "display_name": "SQL",
            "language": "sql"
        },
        "language_info": {
            "name": "sql",
            "version": ""
        }
    },
    "nbformat_minor": 2,
    "nbformat": 4,
    "cells": [
        {
            "cell_type": "markdown",
            "source": "<h1>Preguntas</h1>",
            "metadata": {}
        },
        {
            "cell_type": "markdown",
            "source": "<ul>\r\n    <li>Para SICOP y SIAC: Cual es la granularidad de los datos? que significa que se tengan multiples registros por procedimiento?</li>\r\n    <li>Para SICOP y SIAC: Que significa que para un mismo procedimiento se tengan dos cedulas juridicas para adjudicatario?</li>\r\n    <li>Para SIAC: Que significa subpartida no encontrada? poco menos del 50% de codigos de subpartidas tienen esa leyenda</li>\r\n    <li>Para PJ: Para los datos del poder judicial, que significa open contracting ID?</li>\r\n</ul> ",
            "metadata": {}
        },
        {
            "cell_type": "code",
            "source": "",
            "metadata": {},
            "outputs": [],
            "execution_count": 0
        }
    ]
}