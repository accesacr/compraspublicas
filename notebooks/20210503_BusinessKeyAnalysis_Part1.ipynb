{
    "metadata": {
        "kernelspec": {
            "name": "SQL",
            "display_name": "SQL",
            "language": "sql"
        },
        "language_info": {
            "name": "sql",
            "version": ""
        }
    },
    "nbformat_minor": 2,
    "nbformat": 4,
    "cells": [
        {
            "cell_type": "markdown",
            "source": "<h1>cleandata.sicop_provider</h1>\r\n\r\n<ul>\r\n    <li>31'875 records</li>\r\n    <li>0 NK duplicates or nulls</li>\r\n    <li>0 NULLs for Tipo</li>\r\n    <li>1'434 NULLs for CodigoPostalDistrito_InferidoDeDireccion (~4.5%)</li>\r\n</ul>",
            "metadata": {}
        },
        {
            "cell_type": "code",
            "source": "SELECT \r\n    [Cedula]\r\nFROM [ComprasPublicas].[cleandata].[sicop_provider] AS p\r\nGROUP BY [Cedula]\r\nHAVING COUNT(*) > 1",
            "metadata": {},
            "outputs": [
                {
                    "output_type": "display_data",
                    "data": {
                        "text/html": "(0 rows affected)"
                    },
                    "metadata": {}
                },
                {
                    "output_type": "execute_result",
                    "execution_count": 3,
                    "data": {
                        "application/vnd.dataresource+json": {
                            "schema": {
                                "fields": [
                                    {
                                        "name": "Cedula"
                                    }
                                ]
                            },
                            "data": []
                        },
                        "text/html": "<table><tr><th>Cedula</th></tr></table>"
                    },
                    "metadata": {}
                },
                {
                    "output_type": "display_data",
                    "data": {
                        "text/html": "Total execution time: 00:00:00.057"
                    },
                    "metadata": {}
                }
            ],
            "execution_count": 3
        },
        {
            "cell_type": "code",
            "source": "SELECT \r\n    COUNT(*) AS Num_Total_Records\r\n    ,COUNT(DISTINCT Cedula) AS Num_Total_Cedula\r\n    ,SUM(CASE WHEN COALESCE(Cedula, '') = '' THEN 1 ELSE 0 END) AS Num_Records_Null_Cedula\r\n    ,SUM(CASE WHEN COALESCE(Tipo, '') = '' THEN 1 ELSE 0 END) AS Num_Records_Null_Tipo\r\n    ,SUM(CASE WHEN COALESCE(CodigoPostalDistrito_InferidoDeDireccion, '') = '' THEN 1 ELSE 0 END) AS Num_Records_Null_CodigoPostalDistrito_Inferido\r\nFROM [ComprasPublicas].[cleandata].[sicop_provider] AS p",
            "metadata": {},
            "outputs": [
                {
                    "output_type": "display_data",
                    "data": {
                        "text/html": "(1 row affected)"
                    },
                    "metadata": {}
                },
                {
                    "output_type": "display_data",
                    "data": {
                        "text/html": "Total execution time: 00:00:00.061"
                    },
                    "metadata": {}
                },
                {
                    "output_type": "execute_result",
                    "execution_count": 18,
                    "data": {
                        "application/vnd.dataresource+json": {
                            "schema": {
                                "fields": [
                                    {
                                        "name": "Num_Total_Records"
                                    },
                                    {
                                        "name": "Num_Total_Cedula"
                                    },
                                    {
                                        "name": "Num_Records_Null_Cedula"
                                    },
                                    {
                                        "name": "Num_Records_Null_Tipo"
                                    },
                                    {
                                        "name": "Num_Records_Null_CodigoPostalDistrito_Inferido"
                                    }
                                ]
                            },
                            "data": [
                                {
                                    "0": "31875",
                                    "1": "31875",
                                    "2": "0",
                                    "3": "0",
                                    "4": "1434"
                                }
                            ]
                        },
                        "text/html": "<table><tr><th>Num_Total_Records</th><th>Num_Total_Cedula</th><th>Num_Records_Null_Cedula</th><th>Num_Records_Null_Tipo</th><th>Num_Records_Null_CodigoPostalDistrito_Inferido</th></tr><tr><td>31875</td><td>31875</td><td>0</td><td>0</td><td>1434</td></tr></table>"
                    },
                    "metadata": {}
                }
            ],
            "execution_count": 18
        },
        {
            "cell_type": "markdown",
            "source": "<h1>cleandata.sicop_provider_categorylevel4_map</h1>",
            "metadata": {}
        },
        {
            "cell_type": "code",
            "source": "SELECT \r\n    category_id\r\n    ,provider_id\r\nFROM [ComprasPublicas].[cleandata].[sicop_provider_categorylevel4_map] AS p\r\nGROUP BY category_id, provider_id\r\nHAVING COUNT(*) > 1",
            "metadata": {},
            "outputs": [
                {
                    "output_type": "display_data",
                    "data": {
                        "text/html": "(0 rows affected)"
                    },
                    "metadata": {}
                },
                {
                    "output_type": "execute_result",
                    "execution_count": 4,
                    "data": {
                        "application/vnd.dataresource+json": {
                            "schema": {
                                "fields": [
                                    {
                                        "name": "category_id"
                                    },
                                    {
                                        "name": "provider_id"
                                    }
                                ]
                            },
                            "data": []
                        },
                        "text/html": "<table><tr><th>category_id</th><th>provider_id</th></tr></table>"
                    },
                    "metadata": {}
                },
                {
                    "output_type": "display_data",
                    "data": {
                        "text/html": "Total execution time: 00:00:03.480"
                    },
                    "metadata": {}
                }
            ],
            "execution_count": 4
        },
        {
            "cell_type": "markdown",
            "source": "<h1>cleandata.sicop_procedure_contract</h1>",
            "metadata": {}
        },
        {
            "cell_type": "code",
            "source": "SELECT \r\n    [Número_procedimiento]\r\n    ,[Número_contrato]\r\nFROM [ComprasPublicas].[cleandata].[sicop_procedure_contract] AS p\r\nGROUP BY [Número_procedimiento], [Número_contrato]\r\nHAVING COUNT(*) > 1",
            "metadata": {},
            "outputs": [
                {
                    "output_type": "display_data",
                    "data": {
                        "text/html": "(0 rows affected)"
                    },
                    "metadata": {}
                },
                {
                    "output_type": "execute_result",
                    "execution_count": 6,
                    "data": {
                        "application/vnd.dataresource+json": {
                            "schema": {
                                "fields": [
                                    {
                                        "name": "Número_procedimiento"
                                    },
                                    {
                                        "name": "Número_contrato"
                                    }
                                ]
                            },
                            "data": []
                        },
                        "text/html": "<table><tr><th>Número_procedimiento</th><th>Número_contrato</th></tr></table>"
                    },
                    "metadata": {}
                },
                {
                    "output_type": "display_data",
                    "data": {
                        "text/html": "Total execution time: 00:00:01.683"
                    },
                    "metadata": {}
                }
            ],
            "execution_count": 6
        },
        {
            "cell_type": "markdown",
            "source": "<h1>cleandata.sicop_procedure_categorylevel4_map</h1>",
            "metadata": {}
        },
        {
            "cell_type": "code",
            "source": "SELECT \r\n    procedure_num\r\n    ,category_id\r\nFROM [ComprasPublicas].[cleandata].[sicop_procedure_categorylevel4_map] AS p\r\nGROUP BY procedure_num, category_id\r\nHAVING COUNT(*) > 1",
            "metadata": {},
            "outputs": [
                {
                    "output_type": "display_data",
                    "data": {
                        "text/html": "(0 rows affected)"
                    },
                    "metadata": {}
                },
                {
                    "output_type": "execute_result",
                    "execution_count": 7,
                    "data": {
                        "application/vnd.dataresource+json": {
                            "schema": {
                                "fields": [
                                    {
                                        "name": "procedure_num"
                                    },
                                    {
                                        "name": "category_id"
                                    }
                                ]
                            },
                            "data": []
                        },
                        "text/html": "<table><tr><th>procedure_num</th><th>category_id</th></tr></table>"
                    },
                    "metadata": {}
                },
                {
                    "output_type": "display_data",
                    "data": {
                        "text/html": "Total execution time: 00:00:00.513"
                    },
                    "metadata": {}
                }
            ],
            "execution_count": 7
        },
        {
            "cell_type": "markdown",
            "source": "<h1>cleandata.sicop_categorylevel4</h1>",
            "metadata": {}
        },
        {
            "cell_type": "code",
            "source": "SELECT \r\n    category_id\r\nFROM [ComprasPublicas].[cleandata].[sicop_categorylevel4] AS p\r\nGROUP BY category_id\r\nHAVING COUNT(*) > 1",
            "metadata": {},
            "outputs": [
                {
                    "output_type": "display_data",
                    "data": {
                        "text/html": "(0 rows affected)"
                    },
                    "metadata": {}
                },
                {
                    "output_type": "execute_result",
                    "execution_count": 9,
                    "data": {
                        "application/vnd.dataresource+json": {
                            "schema": {
                                "fields": [
                                    {
                                        "name": "category_id"
                                    }
                                ]
                            },
                            "data": []
                        },
                        "text/html": "<table><tr><th>category_id</th></tr></table>"
                    },
                    "metadata": {}
                },
                {
                    "output_type": "display_data",
                    "data": {
                        "text/html": "Total execution time: 00:00:00.181"
                    },
                    "metadata": {}
                }
            ],
            "execution_count": 9
        },
        {
            "cell_type": "markdown",
            "source": "<h1>cleandata.sicop_categorylevel3</h1>",
            "metadata": {}
        },
        {
            "cell_type": "code",
            "source": "SELECT \r\n    category_id\r\nFROM [ComprasPublicas].[cleandata].[sicop_categorylevel3] AS p\r\nGROUP BY category_id\r\nHAVING COUNT(*) > 1",
            "metadata": {},
            "outputs": [
                {
                    "output_type": "display_data",
                    "data": {
                        "text/html": "(0 rows affected)"
                    },
                    "metadata": {}
                },
                {
                    "output_type": "execute_result",
                    "execution_count": 10,
                    "data": {
                        "application/vnd.dataresource+json": {
                            "schema": {
                                "fields": [
                                    {
                                        "name": "category_id"
                                    }
                                ]
                            },
                            "data": []
                        },
                        "text/html": "<table><tr><th>category_id</th></tr></table>"
                    },
                    "metadata": {}
                },
                {
                    "output_type": "display_data",
                    "data": {
                        "text/html": "Total execution time: 00:00:00.055"
                    },
                    "metadata": {}
                }
            ],
            "execution_count": 10
        },
        {
            "cell_type": "markdown",
            "source": "<h1>cleandata.sicop_categorylevel2</h1>",
            "metadata": {}
        },
        {
            "cell_type": "code",
            "source": "SELECT \r\n    category_id\r\nFROM [ComprasPublicas].[cleandata].[sicop_categorylevel2] AS p\r\nGROUP BY category_id\r\nHAVING COUNT(*) > 1",
            "metadata": {},
            "outputs": [
                {
                    "output_type": "display_data",
                    "data": {
                        "text/html": "(0 rows affected)"
                    },
                    "metadata": {}
                },
                {
                    "output_type": "execute_result",
                    "execution_count": 11,
                    "data": {
                        "application/vnd.dataresource+json": {
                            "schema": {
                                "fields": [
                                    {
                                        "name": "category_id"
                                    }
                                ]
                            },
                            "data": []
                        },
                        "text/html": "<table><tr><th>category_id</th></tr></table>"
                    },
                    "metadata": {}
                },
                {
                    "output_type": "display_data",
                    "data": {
                        "text/html": "Total execution time: 00:00:00.008"
                    },
                    "metadata": {}
                }
            ],
            "execution_count": 11
        },
        {
            "cell_type": "markdown",
            "source": "<h1>cleandata.sicop_categorylevel1</h1>",
            "metadata": {}
        },
        {
            "cell_type": "code",
            "source": "SELECT \r\n    category_id\r\nFROM [ComprasPublicas].[cleandata].[sicop_categorylevel1] AS p\r\nGROUP BY category_id\r\nHAVING COUNT(*) > 1",
            "metadata": {},
            "outputs": [
                {
                    "output_type": "display_data",
                    "data": {
                        "text/html": "(0 rows affected)"
                    },
                    "metadata": {}
                },
                {
                    "output_type": "execute_result",
                    "execution_count": 12,
                    "data": {
                        "application/vnd.dataresource+json": {
                            "schema": {
                                "fields": [
                                    {
                                        "name": "category_id"
                                    }
                                ]
                            },
                            "data": []
                        },
                        "text/html": "<table><tr><th>category_id</th></tr></table>"
                    },
                    "metadata": {}
                },
                {
                    "output_type": "display_data",
                    "data": {
                        "text/html": "Total execution time: 00:00:00.043"
                    },
                    "metadata": {}
                }
            ],
            "execution_count": 12
        },
        {
            "cell_type": "markdown",
            "source": "<h1>cleandata.sicop_procedure_participations_per_provider</h1>",
            "metadata": {}
        },
        {
            "cell_type": "code",
            "source": "SELECT \r\n    provider_id\r\n    ,procedure_num\r\nFROM [ComprasPublicas].[cleandata].[sicop_procedure_participations_per_provider] AS p\r\nGROUP BY provider_id, procedure_num\r\nHAVING COUNT(*) > 1",
            "metadata": {},
            "outputs": [
                {
                    "output_type": "display_data",
                    "data": {
                        "text/html": "(0 rows affected)"
                    },
                    "metadata": {}
                },
                {
                    "output_type": "execute_result",
                    "execution_count": 14,
                    "data": {
                        "application/vnd.dataresource+json": {
                            "schema": {
                                "fields": [
                                    {
                                        "name": "provider_id"
                                    },
                                    {
                                        "name": "procedure_num"
                                    }
                                ]
                            },
                            "data": []
                        },
                        "text/html": "<table><tr><th>provider_id</th><th>procedure_num</th></tr></table>"
                    },
                    "metadata": {}
                },
                {
                    "output_type": "display_data",
                    "data": {
                        "text/html": "Total execution time: 00:00:01.587"
                    },
                    "metadata": {}
                }
            ],
            "execution_count": 14
        },
        {
            "cell_type": "markdown",
            "source": "<h1> SIAC Adjudicaciones</h1>",
            "metadata": {}
        },
        {
            "cell_type": "code",
            "source": "SELECT \r\n--TOP (1000) [INSTITUCION_LICITANTE]\r\n      --,[Ver_más]\r\n      --,[AÑO_DE_APERTURA_CONCURSO]\r\n      --,[NUMERO_PROCEDIMIENTO]\r\n      --,[OBJETO_CONTRACTUAL_DEL_PROCEDIMIENTO]\r\n      --,[FECHA_DE_APERTURA_DE_OFERTAS]\r\n      --,[FECHA_DEINVITACION_A_CONCURSAR]\r\n      --,[FECHA_ACTO_DE_ADJUDICACION]\r\n      --,[FECHA_QUE_SE_COMUNICOADJUDICACION]\r\n      --,[LIMITE_LEGAL_APLICADO]\r\n      --,[MODALIDAD_DE_CONTRATACION]\r\n      --,[PRESUPUESTO_ESTIMADO_PARA_ELPROCEDIMIENTO]\r\n      --,[EXCEPCION_CONTRATACION_DIRECTA]\r\n      --,[LINEA]\r\n      --,[ESTADO_LINEA]\r\n      --,[BIEN_O_SERVICIO]\r\n      --,[CEDULA_OFERENTE_ADJUDICADO]\r\n      --,[OFERENTE_ADJUDICADO]\r\n      --,[CANTIDAD_REQUERIDA]\r\n      --,[CANTIDAD_ADJUDICADA]\r\n      --,[CUANTIA_INESTIMBLE]\r\n      --,[ADJUDICADO_EN_COLONES]\r\n      --,[SUBPARTIDA_DE_GASTO]\r\n\t  count(*) AS TotalRecords\r\n\t  ,count(distinct [NUMERO_PROCEDIMIENTO]) AS TotalRecords\r\n\t  ,count(distinct [NUMERO_PROCEDIMIENTO] + '|' +  [LINEA])\r\n\t  ,count(distinct [NUMERO_PROCEDIMIENTO] + '|' +  [LINEA] + '|' + [SUBPARTIDA_DE_GASTO])\r\n\t  \r\n\t  \r\n  FROM [ComprasPublicas].[Export].[AdjudicacionesSIAC]\r\n\r\n\r\n",
            "metadata": {},
            "outputs": [],
            "execution_count": 0
        },
        {
            "cell_type": "code",
            "source": "",
            "metadata": {},
            "outputs": [],
            "execution_count": 0
        }
    ]
}