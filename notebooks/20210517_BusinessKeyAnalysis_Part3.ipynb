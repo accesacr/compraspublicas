{
    "metadata": {
        "kernelspec": {
            "name": "SQL",
            "display_name": "SQL",
            "language": "sql"
        },
        "language_info": {
            "name": "sql",
            "version": ""
        }
    },
    "nbformat_minor": 2,
    "nbformat": 4,
    "cells": [
        {
            "cell_type": "markdown",
            "source": "<h1>Procedure Contracts with no reference for provider in provider table</h1>\r\n\r\n<ul>\r\n    <li>123'881 total records in table regardless of any problem</li>\r\n    <li>1'634 records (~1.3%) can not find a reference in the provider table. Those account for 1'122 (~3.5%) distinct providers</li>\r\n</ul>",
            "metadata": {}
        },
        {
            "cell_type": "code",
            "source": "SELECT COUNT(*) FROM [cleandata].[sicop_procedure_contract] AS pc",
            "metadata": {},
            "outputs": [
                {
                    "output_type": "display_data",
                    "data": {
                        "text/html": "(1 row affected)"
                    },
                    "metadata": {}
                },
                {
                    "output_type": "display_data",
                    "data": {
                        "text/html": "Total execution time: 00:00:00.124"
                    },
                    "metadata": {}
                },
                {
                    "output_type": "execute_result",
                    "metadata": {},
                    "execution_count": 1,
                    "data": {
                        "application/vnd.dataresource+json": {
                            "schema": {
                                "fields": [
                                    {
                                        "name": "(No column name)"
                                    }
                                ]
                            },
                            "data": [
                                {
                                    "0": "123881"
                                }
                            ]
                        },
                        "text/html": "<table><tr><th>(No column name)</th></tr><tr><td>123881</td></tr></table>"
                    }
                }
            ],
            "execution_count": 1
        },
        {
            "cell_type": "code",
            "source": "SELECT \r\n    COUNT(*)  AS Total_Records_Orphan_Cedula\r\n    ,COUNT(DISTINCT CONCAT(pc.Número_procedimiento, '|', pc.Número_contrato))  AS Distinct_Orphan_Nk\r\n    ,COUNT(DISTINCT pc.Cédula_adjudicatario)  AS Distinct_Orphan_Cedula\r\n    ,COUNT(DISTINCT pc.Número_procedimiento)  AS Distinct_Orphan_ProcedureNum\r\nFROM [cleandata].[sicop_procedure_contract] AS pc\r\nLEFT OUTER JOIN cleandata.sicop_provider AS p ON pc.Cédula_adjudicatario = p.Cedula\r\nWHERE p.Cedula IS NULL",
            "metadata": {},
            "outputs": [
                {
                    "output_type": "display_data",
                    "data": {
                        "text/html": "(1 row affected)"
                    },
                    "metadata": {}
                },
                {
                    "output_type": "display_data",
                    "data": {
                        "text/html": "Total execution time: 00:00:00.272"
                    },
                    "metadata": {}
                },
                {
                    "output_type": "execute_result",
                    "metadata": {},
                    "execution_count": 4,
                    "data": {
                        "application/vnd.dataresource+json": {
                            "schema": {
                                "fields": [
                                    {
                                        "name": "Total_Records_Orphan_Cedula"
                                    },
                                    {
                                        "name": "Distinct_Orphan_Nk"
                                    },
                                    {
                                        "name": "Distinct_Orphan_Cedula"
                                    },
                                    {
                                        "name": "Distinct_Orphan_ProcedureNum"
                                    }
                                ]
                            },
                            "data": [
                                {
                                    "0": "1634",
                                    "1": "1634",
                                    "2": "1122",
                                    "3": "1434"
                                }
                            ]
                        },
                        "text/html": "<table><tr><th>Total_Records_Orphan_Cedula</th><th>Distinct_Orphan_Nk</th><th>Distinct_Orphan_Cedula</th><th>Distinct_Orphan_ProcedureNum</th></tr><tr><td>1634</td><td>1634</td><td>1122</td><td>1434</td></tr></table>"
                    }
                }
            ],
            "execution_count": 4
        },
        {
            "cell_type": "markdown",
            "source": "<h1>Categories with references in the hierarchy relation to other categories</h1>\r\n\r\n<ul>\r\n    <li>48'585 categories of level 4 in table regardless of any problem </li>\r\n    <li>4'881 categories of level 3 in table regardless of any problem</li>\r\n    <li>469 categories of level 2 in table regardless of any problem</li>\r\n    <li>57 categories of level 1 in table regardless of any problem</li>\r\n    <li>0 orphan references in any of the categories hierarchies </li>\r\n</ul>",
            "metadata": {}
        },
        {
            "cell_type": "code",
            "source": "SELECT count(*) FROM cleandata.sicop_categorylevel4\r\nSELECT count(*) FROM cleandata.sicop_categorylevel3\r\nSELECT count(*) FROM cleandata.sicop_categorylevel2\r\nSELECT count(*) FROM cleandata.sicop_categorylevel1",
            "metadata": {},
            "outputs": [
                {
                    "output_type": "display_data",
                    "data": {
                        "text/html": "(1 row affected)"
                    },
                    "metadata": {}
                },
                {
                    "output_type": "display_data",
                    "data": {
                        "text/html": "(1 row affected)"
                    },
                    "metadata": {}
                },
                {
                    "output_type": "display_data",
                    "data": {
                        "text/html": "(1 row affected)"
                    },
                    "metadata": {}
                },
                {
                    "output_type": "display_data",
                    "data": {
                        "text/html": "(1 row affected)"
                    },
                    "metadata": {}
                },
                {
                    "output_type": "display_data",
                    "data": {
                        "text/html": "Total execution time: 00:00:00.021"
                    },
                    "metadata": {}
                },
                {
                    "output_type": "execute_result",
                    "metadata": {},
                    "execution_count": 5,
                    "data": {
                        "application/vnd.dataresource+json": {
                            "schema": {
                                "fields": [
                                    {
                                        "name": "(No column name)"
                                    }
                                ]
                            },
                            "data": [
                                {
                                    "0": "48585"
                                }
                            ]
                        },
                        "text/html": "<table><tr><th>(No column name)</th></tr><tr><td>48585</td></tr></table>"
                    }
                },
                {
                    "output_type": "execute_result",
                    "metadata": {},
                    "execution_count": 5,
                    "data": {
                        "application/vnd.dataresource+json": {
                            "schema": {
                                "fields": [
                                    {
                                        "name": "(No column name)"
                                    }
                                ]
                            },
                            "data": [
                                {
                                    "0": "4881"
                                }
                            ]
                        },
                        "text/html": "<table><tr><th>(No column name)</th></tr><tr><td>4881</td></tr></table>"
                    }
                },
                {
                    "output_type": "execute_result",
                    "metadata": {},
                    "execution_count": 5,
                    "data": {
                        "application/vnd.dataresource+json": {
                            "schema": {
                                "fields": [
                                    {
                                        "name": "(No column name)"
                                    }
                                ]
                            },
                            "data": [
                                {
                                    "0": "469"
                                }
                            ]
                        },
                        "text/html": "<table><tr><th>(No column name)</th></tr><tr><td>469</td></tr></table>"
                    }
                },
                {
                    "output_type": "execute_result",
                    "metadata": {},
                    "execution_count": 5,
                    "data": {
                        "application/vnd.dataresource+json": {
                            "schema": {
                                "fields": [
                                    {
                                        "name": "(No column name)"
                                    }
                                ]
                            },
                            "data": [
                                {
                                    "0": "57"
                                }
                            ]
                        },
                        "text/html": "<table><tr><th>(No column name)</th></tr><tr><td>57</td></tr></table>"
                    }
                }
            ],
            "execution_count": 5
        },
        {
            "cell_type": "code",
            "source": "SELECT \r\n    count(*) AS Null_Records\r\nFROM cleandata.sicop_categorylevel4 AS cat4\r\nLEFT OUTER JOIN cleandata.sicop_categorylevel3 AS cat3 ON LEFT(cat4.category_id, 6) = cat3.category_id\r\nWHERE cat3.category_id IS NULL\r\n\r\nSELECT \r\n    count(*) AS Null_Records\r\nFROM cleandata.sicop_categorylevel3 AS cat3\r\nLEFT OUTER JOIN cleandata.sicop_categorylevel2 AS cat2 ON LEFT(cat3.category_id, 4) = cat2.category_id\r\nWHERE cat2.category_id IS NULL\r\n\r\nSELECT \r\n    count(*) AS Null_Records\r\nFROM cleandata.sicop_categorylevel2 AS cat2\r\nLEFT OUTER JOIN cleandata.sicop_categorylevel1 AS cat1 ON LEFT(cat2.category_id, 2) = cat1.category_id\r\nWHERE cat1.category_id IS NULL",
            "metadata": {},
            "outputs": [
                {
                    "output_type": "display_data",
                    "data": {
                        "text/html": "(1 row affected)"
                    },
                    "metadata": {}
                },
                {
                    "output_type": "display_data",
                    "data": {
                        "text/html": "(1 row affected)"
                    },
                    "metadata": {}
                },
                {
                    "output_type": "display_data",
                    "data": {
                        "text/html": "(1 row affected)"
                    },
                    "metadata": {}
                },
                {
                    "output_type": "display_data",
                    "data": {
                        "text/html": "Total execution time: 00:00:00.043"
                    },
                    "metadata": {}
                },
                {
                    "output_type": "execute_result",
                    "metadata": {},
                    "execution_count": 7,
                    "data": {
                        "application/vnd.dataresource+json": {
                            "schema": {
                                "fields": [
                                    {
                                        "name": "Null_Records"
                                    }
                                ]
                            },
                            "data": [
                                {
                                    "0": "0"
                                }
                            ]
                        },
                        "text/html": "<table><tr><th>Null_Records</th></tr><tr><td>0</td></tr></table>"
                    }
                },
                {
                    "output_type": "execute_result",
                    "metadata": {},
                    "execution_count": 7,
                    "data": {
                        "application/vnd.dataresource+json": {
                            "schema": {
                                "fields": [
                                    {
                                        "name": "Null_Records"
                                    }
                                ]
                            },
                            "data": [
                                {
                                    "0": "0"
                                }
                            ]
                        },
                        "text/html": "<table><tr><th>Null_Records</th></tr><tr><td>0</td></tr></table>"
                    }
                },
                {
                    "output_type": "execute_result",
                    "metadata": {},
                    "execution_count": 7,
                    "data": {
                        "application/vnd.dataresource+json": {
                            "schema": {
                                "fields": [
                                    {
                                        "name": "Null_Records"
                                    }
                                ]
                            },
                            "data": [
                                {
                                    "0": "0"
                                }
                            ]
                        },
                        "text/html": "<table><tr><th>Null_Records</th></tr><tr><td>0</td></tr></table>"
                    }
                }
            ],
            "execution_count": 7
        },
        {
            "cell_type": "markdown",
            "source": "<h1>Procedure participations map table with orphan providers or procedures</h1>\r\n\r\n<ul>\r\n    <li>361'973 total participation records (provider + procedure_num) in table regardless of any problem</li>\r\n    <li>100'581 total procedure_num regardless of any problem</li>\r\n    <li>35'341 total participation records (~10%) do not have a procedure num in procedure contracts table. This is for 11'260 distinct procedures (~12%)</li>\r\n</ul>",
            "metadata": {}
        },
        {
            "cell_type": "code",
            "source": "SELECT count(*) FROM cleandata.sicop_procedure_participations_per_provider\r\n\r\nSELECT count(distinct procedure_num) FROM cleandata.sicop_procedure_participations_per_provider",
            "metadata": {},
            "outputs": [
                {
                    "output_type": "display_data",
                    "data": {
                        "text/html": "(1 row affected)"
                    },
                    "metadata": {}
                },
                {
                    "output_type": "display_data",
                    "data": {
                        "text/html": "(1 row affected)"
                    },
                    "metadata": {}
                },
                {
                    "output_type": "display_data",
                    "data": {
                        "text/html": "Total execution time: 00:00:00.517"
                    },
                    "metadata": {}
                },
                {
                    "output_type": "execute_result",
                    "metadata": {},
                    "execution_count": 11,
                    "data": {
                        "application/vnd.dataresource+json": {
                            "schema": {
                                "fields": [
                                    {
                                        "name": "(No column name)"
                                    }
                                ]
                            },
                            "data": [
                                {
                                    "0": "361973"
                                }
                            ]
                        },
                        "text/html": "<table><tr><th>(No column name)</th></tr><tr><td>361973</td></tr></table>"
                    }
                },
                {
                    "output_type": "execute_result",
                    "metadata": {},
                    "execution_count": 11,
                    "data": {
                        "application/vnd.dataresource+json": {
                            "schema": {
                                "fields": [
                                    {
                                        "name": "(No column name)"
                                    }
                                ]
                            },
                            "data": [
                                {
                                    "0": "100581"
                                }
                            ]
                        },
                        "text/html": "<table><tr><th>(No column name)</th></tr><tr><td>100581</td></tr></table>"
                    }
                }
            ],
            "execution_count": 11
        },
        {
            "cell_type": "code",
            "source": "SELECT \r\n    count(*) AS Null_Records\r\nFROM cleandata.sicop_procedure_participations_per_provider AS par\r\nLEFT OUTER JOIN cleandata.sicop_provider AS p ON par.provider_id = p.Cedula\r\nWHERE p.Cedula IS NULL",
            "metadata": {},
            "outputs": [
                {
                    "output_type": "display_data",
                    "data": {
                        "text/html": "(1 row affected)"
                    },
                    "metadata": {}
                },
                {
                    "output_type": "display_data",
                    "data": {
                        "text/html": "Total execution time: 00:00:00.499"
                    },
                    "metadata": {}
                },
                {
                    "output_type": "execute_result",
                    "metadata": {},
                    "execution_count": 9,
                    "data": {
                        "application/vnd.dataresource+json": {
                            "schema": {
                                "fields": [
                                    {
                                        "name": "Null_Records"
                                    }
                                ]
                            },
                            "data": [
                                {
                                    "0": "0"
                                }
                            ]
                        },
                        "text/html": "<table><tr><th>Null_Records</th></tr><tr><td>0</td></tr></table>"
                    }
                }
            ],
            "execution_count": 9
        },
        {
            "cell_type": "code",
            "source": "SELECT \r\n    count(*) AS Null_Records\r\n    ,count(DISTINCT par.procedure_num) AS Null_Procedure_Num\r\nFROM cleandata.sicop_procedure_participations_per_provider AS par\r\nLEFT OUTER JOIN (SELECT DISTINCT Número_procedimiento AS procedure_num FROM cleandata.sicop_procedure_contract) AS pc ON par.procedure_num = pc.procedure_num\r\nWHERE pc.procedure_num IS NULL",
            "metadata": {},
            "outputs": [
                {
                    "output_type": "display_data",
                    "data": {
                        "text/html": "(1 row affected)"
                    },
                    "metadata": {}
                },
                {
                    "output_type": "display_data",
                    "data": {
                        "text/html": "Total execution time: 00:00:01.447"
                    },
                    "metadata": {}
                },
                {
                    "output_type": "execute_result",
                    "metadata": {},
                    "execution_count": 13,
                    "data": {
                        "application/vnd.dataresource+json": {
                            "schema": {
                                "fields": [
                                    {
                                        "name": "Null_Records"
                                    },
                                    {
                                        "name": "Null_Procedure_Num"
                                    }
                                ]
                            },
                            "data": [
                                {
                                    "0": "35341",
                                    "1": "11260"
                                }
                            ]
                        },
                        "text/html": "<table><tr><th>Null_Records</th><th>Null_Procedure_Num</th></tr><tr><td>35341</td><td>11260</td></tr></table>"
                    }
                }
            ],
            "execution_count": 13
        },
        {
            "cell_type": "markdown",
            "source": "<h1>Procedure contracts with no records in participations map table</h1>\r\n\r\n<ul>\r\n    <li>123'881 distinct combinations of procedure_num+contact_num in procedure contracts</li>\r\n    <li>89'950 distinct procedure nums, and 10'813 distinct provider_id in procedure_contract table regardless of any problem</li>\r\n    <li>629 distinct procedure nums (~0.7%) in procedure_contract table can not be found in participation map table</li>\r\n    <li>1'506 (~14%) distinct provider_id in procedure_contract table can not be found in participation map table</li>\r\n</ul>",
            "metadata": {}
        },
        {
            "cell_type": "code",
            "source": "SELECT \r\n    count(*) AS Records\r\nFROM cleandata.sicop_procedure_contract AS pc\r\n\r\nSELECT \r\n    count(*) AS Records_procedure_num\r\nFROM (SELECT DISTINCT Número_procedimiento AS procedure_num FROM cleandata.sicop_procedure_contract) AS pc\r\n\r\nSELECT \r\n    count(*) AS Records_Cedula\r\nFROM (SELECT DISTINCT Cédula_adjudicatario AS procedure_num FROM cleandata.sicop_procedure_contract) AS pc",
            "metadata": {},
            "outputs": [
                {
                    "output_type": "display_data",
                    "data": {
                        "text/html": "(1 row affected)"
                    },
                    "metadata": {}
                },
                {
                    "output_type": "display_data",
                    "data": {
                        "text/html": "(1 row affected)"
                    },
                    "metadata": {}
                },
                {
                    "output_type": "display_data",
                    "data": {
                        "text/html": "(1 row affected)"
                    },
                    "metadata": {}
                },
                {
                    "output_type": "display_data",
                    "data": {
                        "text/html": "Total execution time: 00:00:01.369"
                    },
                    "metadata": {}
                },
                {
                    "output_type": "execute_result",
                    "metadata": {},
                    "execution_count": 25,
                    "data": {
                        "application/vnd.dataresource+json": {
                            "schema": {
                                "fields": [
                                    {
                                        "name": "Records"
                                    }
                                ]
                            },
                            "data": [
                                {
                                    "0": "123881"
                                }
                            ]
                        },
                        "text/html": "<table><tr><th>Records</th></tr><tr><td>123881</td></tr></table>"
                    }
                },
                {
                    "output_type": "execute_result",
                    "metadata": {},
                    "execution_count": 25,
                    "data": {
                        "application/vnd.dataresource+json": {
                            "schema": {
                                "fields": [
                                    {
                                        "name": "Records_procedure_num"
                                    }
                                ]
                            },
                            "data": [
                                {
                                    "0": "89950"
                                }
                            ]
                        },
                        "text/html": "<table><tr><th>Records_procedure_num</th></tr><tr><td>89950</td></tr></table>"
                    }
                },
                {
                    "output_type": "execute_result",
                    "metadata": {},
                    "execution_count": 25,
                    "data": {
                        "application/vnd.dataresource+json": {
                            "schema": {
                                "fields": [
                                    {
                                        "name": "Records_Cedula"
                                    }
                                ]
                            },
                            "data": [
                                {
                                    "0": "10813"
                                }
                            ]
                        },
                        "text/html": "<table><tr><th>Records_Cedula</th></tr><tr><td>10813</td></tr></table>"
                    }
                }
            ],
            "execution_count": 25
        },
        {
            "cell_type": "code",
            "source": "SELECT \r\n    count(*) AS Null_Records\r\n    ,count(DISTINCT pc.Número_procedimiento) AS Null_Procedure_Num\r\nFROM cleandata.sicop_procedure_contract AS pc\r\nLEFT OUTER JOIN (SELECT DISTINCT procedure_num FROM cleandata.sicop_procedure_participations_per_provider) AS par ON pc.Número_procedimiento = par.procedure_num\r\nWHERE par.procedure_num IS NULL",
            "metadata": {},
            "outputs": [
                {
                    "output_type": "display_data",
                    "data": {
                        "text/html": "(1 row affected)"
                    },
                    "metadata": {}
                },
                {
                    "output_type": "display_data",
                    "data": {
                        "text/html": "Total execution time: 00:00:01.277"
                    },
                    "metadata": {}
                },
                {
                    "output_type": "execute_result",
                    "metadata": {},
                    "execution_count": 20,
                    "data": {
                        "application/vnd.dataresource+json": {
                            "schema": {
                                "fields": [
                                    {
                                        "name": "Null_Records"
                                    },
                                    {
                                        "name": "Null_Procedure_Num"
                                    }
                                ]
                            },
                            "data": [
                                {
                                    "0": "867",
                                    "1": "629"
                                }
                            ]
                        },
                        "text/html": "<table><tr><th>Null_Records</th><th>Null_Procedure_Num</th></tr><tr><td>867</td><td>629</td></tr></table>"
                    }
                }
            ],
            "execution_count": 20
        },
        {
            "cell_type": "code",
            "source": "SELECT \r\n    count(*) AS Null_Records\r\n    ,count(DISTINCT pc.Número_procedimiento) AS Null_Procedure_Num\r\n    ,count(DISTINCT pc.Cédula_adjudicatario) AS Null_Cedula_Num\r\nFROM cleandata.sicop_procedure_contract AS pc\r\nLEFT OUTER JOIN (SELECT DISTINCT procedure_num, provider_id FROM cleandata.sicop_procedure_participations_per_provider) AS par ON pc.Número_procedimiento = par.procedure_num AND pc.Cédula_adjudicatario = par.provider_id\r\nWHERE par.procedure_num IS NULL",
            "metadata": {},
            "outputs": [
                {
                    "output_type": "display_data",
                    "data": {
                        "text/html": "(1 row affected)"
                    },
                    "metadata": {}
                },
                {
                    "output_type": "display_data",
                    "data": {
                        "text/html": "Total execution time: 00:00:02.417"
                    },
                    "metadata": {}
                },
                {
                    "output_type": "execute_result",
                    "metadata": {},
                    "execution_count": 23,
                    "data": {
                        "application/vnd.dataresource+json": {
                            "schema": {
                                "fields": [
                                    {
                                        "name": "Null_Records"
                                    },
                                    {
                                        "name": "Null_Procedure_Num"
                                    },
                                    {
                                        "name": "Null_Cedula_Num"
                                    }
                                ]
                            },
                            "data": [
                                {
                                    "0": "2191",
                                    "1": "1760",
                                    "2": "1506"
                                }
                            ]
                        },
                        "text/html": "<table><tr><th>Null_Records</th><th>Null_Procedure_Num</th><th>Null_Cedula_Num</th></tr><tr><td>2191</td><td>1760</td><td>1506</td></tr></table>"
                    }
                }
            ],
            "execution_count": 23
        }
    ]
}